{
 "cells": [
  {
   "metadata": {},
   "cell_type": "markdown",
   "source": "# Exercises Chapter 02",
   "id": "70c9a41e9c8bd7a0"
  },
  {
   "metadata": {},
   "cell_type": "markdown",
   "source": [
    "1. Change the parameters of the prior Beta distribution\n",
    "in `our_first_model` to match those of the previous chapter.\n",
    "Compare the results to the previous chapter."
   ],
   "id": "82dd2450fc76c154"
  },
  {
   "metadata": {},
   "cell_type": "code",
   "source": [
    "# Import functional tools\n",
    "from cytoolz.curried import *\n",
    "\n",
    "# Import PyMC\n",
    "import arviz as az\n",
    "import pymc as pm\n",
    "import preliz as pz\n",
    "\n",
    "# Import data science packages\n",
    "import numpy as np\n",
    "import matplotlib.pyplot as plt\n",
    "import pandas as pd"
   ],
   "id": "23e2da5afe27a6ae",
   "outputs": [],
   "execution_count": null
  },
  {
   "metadata": {},
   "cell_type": "code",
   "source": [
    "# Use a fixed random number generator\n",
    "rng = np.random.default_rng(seed=123)"
   ],
   "id": "53759f00303b43aa",
   "outputs": [],
   "execution_count": null
  },
  {
   "metadata": {},
   "cell_type": "code",
   "source": [
    "trials = 4\n",
    "theta_real = 0.35 # Unknown in a real experiment\n",
    "data = pz.Binomial(n=1, p=theta_real).rvs(size=trials)"
   ],
   "id": "76f92f9a82ea23af",
   "outputs": [],
   "execution_count": null
  },
  {
   "metadata": {},
   "cell_type": "code",
   "source": [
    "our_first_model = [None] * 3\n",
    "idata = [None] * 3\n",
    "idata"
   ],
   "id": "1caaf18cd65fa2b6",
   "outputs": [],
   "execution_count": null
  },
  {
   "metadata": {},
   "cell_type": "code",
   "source": [
    "with pm.Model() as our_first_model[0]:\n",
    "    theta = pm.Beta('theta', alpha = 1, beta = 1)\n",
    "    y = pm.Bernoulli('y', p = theta, observed = data)\n",
    "    idata[0] = pm.sample(1000)"
   ],
   "id": "3d3b7d0d8e618cc5",
   "outputs": [],
   "execution_count": null
  },
  {
   "metadata": {},
   "cell_type": "code",
   "source": [
    "az.plot_trace(idata[0])\n",
    "plt.show()"
   ],
   "id": "4300b93ab6039263",
   "outputs": [],
   "execution_count": null
  },
  {
   "metadata": {},
   "cell_type": "code",
   "source": "az.summary(idata[0], kind='stats').round(2)",
   "id": "9487f7950e6def95",
   "outputs": [],
   "execution_count": null
  },
  {
   "metadata": {},
   "cell_type": "code",
   "source": [
    "az.plot_posterior(idata[0], ref_val=theta_real)\n",
    "plt.show()"
   ],
   "id": "c4145900305365f5",
   "outputs": [],
   "execution_count": null
  },
  {
   "metadata": {},
   "cell_type": "code",
   "source": [
    "with pm.Model() as our_first_model[1]:\n",
    "    theta = pm.Beta('theta', alpha=20, beta=20)\n",
    "    y = pm.Bernoulli('y', p=theta, observed= data)\n",
    "    idata[1] = pm.sample(1000)"
   ],
   "id": "c3ff7af6d07fac87",
   "outputs": [],
   "execution_count": null
  },
  {
   "metadata": {},
   "cell_type": "code",
   "source": "az.summary(idata[1], kind='stats').round(2)",
   "id": "2d5a76c8c1cbaf33",
   "outputs": [],
   "execution_count": null
  },
  {
   "metadata": {},
   "cell_type": "code",
   "source": [
    "az.plot_posterior(idata[1], ref_val=theta_real)\n",
    "plt.show()"
   ],
   "id": "48c6c2aa30cb1a44",
   "outputs": [],
   "execution_count": null
  },
  {
   "metadata": {},
   "cell_type": "code",
   "source": [
    "with pm.Model() as our_first_model[2]:\n",
    "    theta = pm.Beta('theta', alpha=1, beta=4)\n",
    "    y = pm.Bernoulli('y', p=theta, observed= data)\n",
    "    idata[2] = pm.sample(1000)"
   ],
   "id": "c7f307a547bf70c2",
   "outputs": [],
   "execution_count": null
  },
  {
   "metadata": {},
   "cell_type": "code",
   "source": [
    "az.plot_trace(idata[2])\n",
    "plt.show()"
   ],
   "id": "ca640a23068909e7",
   "outputs": [],
   "execution_count": null
  },
  {
   "metadata": {},
   "cell_type": "code",
   "source": "az.summary(idata[2], kind='stats').round(2)",
   "id": "24de53999fde2602",
   "outputs": [],
   "execution_count": null
  },
  {
   "metadata": {},
   "cell_type": "code",
   "source": [
    "az.plot_posterior(idata[2], ref_val=theta_real)\n",
    "plt.show()"
   ],
   "id": "afe5af38878fcd9a",
   "outputs": [],
   "execution_count": null
  },
  {
   "metadata": {},
   "cell_type": "markdown",
   "source": [
    "The first experiment, $\\alpha = 1$ and $\\beta = 1$, appear to be the\n",
    "best. However, experiment 3, $\\alpha = 1$ and $\\beta = 4$, also seems\n",
    "pretty reasonable. The second experiment, $\\alpha = 20$ and\n",
    "$\\beta = 20$, seems to be the worst of the three models; however, all\n",
    "models contain the actual value within the 94% highest density\n",
    "interval (HDI)."
   ],
   "id": "d4264c76a6c45dc9"
  },
  {
   "metadata": {},
   "cell_type": "markdown",
   "source": [
    "2. Compare `our_first_model` with a prior $\\theta \\sim Beta(1, 1)$ with\n",
    "a model with prior $\\theta \\sim Uniform(0, 1)$."
   ],
   "id": "69dc6288b76a9726"
  },
  {
   "metadata": {},
   "cell_type": "code",
   "source": [
    "with pm.Model() as our_first_beta_model:\n",
    "    theta = pm.Beta('theta', alpha=1, beta=1)\n",
    "    y = pm.Bernoulli('y', p=theta, observed= data)\n",
    "    idata_beta = pm.sample(1000)"
   ],
   "id": "4f2336514cb7a490",
   "outputs": [],
   "execution_count": null
  },
  {
   "metadata": {},
   "cell_type": "code",
   "source": [
    "az.plot_trace(idata_beta)\n",
    "plt.show()"
   ],
   "id": "f2fc9b28f5bcac12",
   "outputs": [],
   "execution_count": null
  },
  {
   "metadata": {},
   "cell_type": "code",
   "source": "az.summary(idata_beta, kind='stats').round(2)",
   "id": "bfd93856e5bde95c",
   "outputs": [],
   "execution_count": null
  },
  {
   "metadata": {},
   "cell_type": "code",
   "source": [
    "az.plot_posterior(idata_beta, ref_val=theta_real)\n",
    "plt.show()"
   ],
   "id": "d0828ab0f2ad425e",
   "outputs": [],
   "execution_count": null
  },
  {
   "metadata": {},
   "cell_type": "code",
   "source": [
    "with pm.Model() as our_first_uniform:\n",
    "    theta = pm.Uniform('theta', lower=0, upper=1)\n",
    "    y = pm.Bernoulli('y', p=theta, observed= data)\n",
    "    idata_uniform = pm.sample(1000)"
   ],
   "id": "6cd79e54d587063c",
   "outputs": [],
   "execution_count": null
  },
  {
   "metadata": {},
   "cell_type": "code",
   "source": [
    "az.plot_trace(idata_uniform)\n",
    "plt.show()"
   ],
   "id": "d0b51af926cd3e54",
   "outputs": [],
   "execution_count": null
  },
  {
   "metadata": {},
   "cell_type": "code",
   "source": "az.summary(idata_uniform, kind='stats').round(2)",
   "id": "ad5347f9f04e5310",
   "outputs": [],
   "execution_count": null
  },
  {
   "metadata": {},
   "cell_type": "code",
   "source": [
    "az.plot_posterior(idata_uniform, ref_val=theta_real)\n",
    "plt.show()"
   ],
   "id": "f6580667aba4daab",
   "outputs": [],
   "execution_count": null
  },
  {
   "metadata": {},
   "cell_type": "markdown",
   "source": [
    "Interesting... It is difficult to distinguish the Beta prior results\n",
    "from the Uniform prior results. The means are very close, the 94% HDI\n",
    "are very close, and both models have a similar number of values around\n",
    "the actual mean."
   ],
   "id": "d764a4bda43692ac"
  },
  {
   "metadata": {},
   "cell_type": "markdown",
   "source": [
    "3. PyMC has a function named `pm.model_to_graphviz` that can be used\n",
    "to visualize the mode. Use it to visualize `our_first_model`.\n",
    "Compare the results with the Kruschke diagram. Use\n",
    "`pm.model_to_graphviz` to visualize model `comparing_groups`."
   ],
   "id": "3185041ec1c1d89c"
  },
  {
   "metadata": {},
   "cell_type": "code",
   "source": [
    "with pm.Model() as our_first_model:\n",
    "    theta=pm.Beta('theta', alpha=1, beta=1)\n",
    "    y = pm.Bernoulli('y', p=theta, observed=data)"
   ],
   "id": "8cf3c3fd81060b34",
   "outputs": [],
   "execution_count": null
  },
  {
   "metadata": {},
   "cell_type": "code",
   "source": "pm.model_to_graphviz(our_first_model)",
   "id": "a42fc8eecfffc032",
   "outputs": [],
   "execution_count": null
  },
  {
   "metadata": {},
   "cell_type": "code",
   "source": [
    "tips = pd.read_csv('data/tips.csv')\n",
    "\n",
    "categories =np.array(['Thu', 'Fri', 'Sat', 'Sun'])\n",
    "tip = tips['tip'].values\n",
    "idx = pd.Categorical(tips['day'], categories=categories).codes\n",
    "\n",
    "with pm.Model() as comparing_groups:\n",
    "    mu = pm.Normal('mu', mu=0, sigma=10, shape=4)\n",
    "    sigma = pm.HalfNormal('sigma', sigma=10, shape=4)\n",
    "    y = pm.Normal('y', mu=mu[idx], sigma=sigma[idx], observed=tip)\n",
    "\n",
    "pm.model_to_graphviz(comparing_groups)"
   ],
   "id": "79d6af7570bdcb34",
   "outputs": [],
   "execution_count": null
  },
  {
   "metadata": {},
   "cell_type": "markdown",
   "source": [
    "4. Read about the coal mining disaster model that is part of the\n",
    "PyMC documentation\n",
    "(https://www.pymc.io/projects/docs/en/latest/learn/core_notebooks/pymc_overview.html#case-study-2-coal-mining-disasters).\n",
    "Try to implement and run this model yourself."
   ],
   "id": "f9a6a8433a394035"
  },
  {
   "metadata": {},
   "cell_type": "code",
   "source": [
    "disaster_data = pd.Series([\n",
    "    4, 5, 4, 0, 1, 4, 3, 4, 0, 6, 3, 3, 4, 0, 2, 6,\n",
    "    3, 3, 5, 4, 5, 3, 1, 4, 4, 1, 5, 5, 3, 4, 2, 5,\n",
    "    2, 2, 3, 4, 2, 1, 3, np.nan, 2, 1, 1, 1, 1, 3, 0, 0,\n",
    "    1, 0, 1, 1, 0, 0, 3, 1, 0, 3, 2, 2, 0, 1, 1, 1,\n",
    "    0, 1, 0, 1, 0, 0, 0, 2, 1, 0, 0, 0, 1, 1, 0, 2,\n",
    "    3, 3, 1, np.nan, 2, 1, 1, 1, 1, 2, 4, 2, 0, 0, 1, 4,\n",
    "    0, 0, 0, 1, 0, 0, 0, 0, 0, 1, 0, 0, 1, 0, 1\n",
    "])\n",
    "years = np.arange(1851, 1962)\n",
    "\n",
    "with pm.Model() as disaster_model:\n",
    "    switchpoint = pm.DiscreteUniform('switchpoint',\n",
    "                                     lower=years.min(),\n",
    "                                     upper=years.max())\n",
    "\n",
    "    # Priors for pre- and post-switch rates number of disasters\n",
    "    early_rate = pm.Exponential('early_rate', 1.0)\n",
    "    late_rate = pm.Exponential('late_rate', 1.0)\n",
    "\n",
    "    # Allocate appropriate Poisson rates to years before and after current\n",
    "    rate = pm.math.switch(switchpoint >= years, early_rate, late_rate)\n",
    "\n",
    "    disasters = pm.Poisson('disasters', rate, observed=disaster_data)\n",
    "\n",
    "    idata_disasters = pm.sample(1000)"
   ],
   "id": "27b870e8359f2b47",
   "outputs": [],
   "execution_count": null
  },
  {
   "metadata": {},
   "cell_type": "code",
   "source": [
    "az.plot_trace(idata_disasters)\n",
    "plt.show()"
   ],
   "id": "1841df38a9167700",
   "outputs": [],
   "execution_count": null
  },
  {
   "metadata": {},
   "cell_type": "code",
   "source": "az.summary(idata_disasters, kind='stats').round(2)",
   "id": "6b67d83ee59d04b6",
   "outputs": [],
   "execution_count": null
  },
  {
   "metadata": {},
   "cell_type": "code",
   "source": [
    "az.plot_posterior(idata_disasters)\n",
    "plt.show()"
   ],
   "id": "7e715dead0366aed",
   "outputs": [],
   "execution_count": null
  },
  {
   "metadata": {},
   "cell_type": "markdown",
   "source": [
    "5. Modify `model_g`. Change the prior for the mean to a Gaussian\n",
    "distribution centered at the empirical mean, and play with a\n",
    "couple of reasonable values for the standard deviation of this\n",
    "prior."
   ],
   "id": "5e66576a2ea86ca7"
  },
  {
   "metadata": {},
   "cell_type": "code",
   "source": [
    "# Load the data\n",
    "data = np.loadtxt('./data/chemical_shifts.csv')\n",
    "empirical_mean = np.mean(data)\n",
    "empirical_std = np.std(data)\n",
    "len(data), empirical_mean, empirical_std"
   ],
   "id": "a14b202dcbb05737",
   "outputs": [],
   "execution_count": null
  },
  {
   "metadata": {},
   "cell_type": "code",
   "source": [
    "sigmas = [2, 3, 4, 5]\n",
    "model_g = [None] * len(sigmas)\n",
    "idata_g = [None] * len(sigmas)"
   ],
   "id": "5e58b3ce6337c71d",
   "outputs": [],
   "execution_count": null
  },
  {
   "metadata": {},
   "cell_type": "code",
   "source": [
    "with pm.Model() as model_g[0]:\n",
    "    mu= pm.Normal('mu', mu=empirical_mean, sigma=sigmas[0])\n",
    "    sigma = pm.HalfNormal('sigma', sigma=5)\n",
    "    y = pm.Normal('y', mu=mu, sigma=sigma, observed=data)\n",
    "    idata_g[0] = pm.sample()"
   ],
   "id": "ad00f0a1fb50ea9f",
   "outputs": [],
   "execution_count": null
  },
  {
   "metadata": {},
   "cell_type": "code",
   "source": [
    "az.plot_trace(idata_g[0])\n",
    "plt.show()"
   ],
   "id": "8093a704e8537f5e",
   "outputs": [],
   "execution_count": null
  },
  {
   "metadata": {},
   "cell_type": "code",
   "source": [
    "with pm.Model() as model_g[1]:\n",
    "    mu= pm.Normal('mu', mu=empirical_mean, sigma=sigmas[1])\n",
    "    sigma = pm.HalfNormal('sigma', sigma=5)\n",
    "    y = pm.Normal('y', mu=mu, sigma=sigma, observed=data)\n",
    "    idata_g[1] = pm.sample()"
   ],
   "id": "8bb52d20c785806a",
   "outputs": [],
   "execution_count": null
  },
  {
   "metadata": {},
   "cell_type": "code",
   "source": [
    "az.plot_trace(idata_g[1])\n",
    "plt.show()"
   ],
   "id": "3721a4be87ccac22",
   "outputs": [],
   "execution_count": null
  },
  {
   "metadata": {},
   "cell_type": "code",
   "source": [
    "with pm.Model() as model_g[2]:\n",
    "    mu= pm.Normal('mu', mu=empirical_mean, sigma=sigmas[2])\n",
    "    sigma = pm.HalfNormal('sigma', sigma=5)\n",
    "    y = pm.Normal('y', mu=mu, sigma=sigma, observed=data)\n",
    "    idata_g[2] = pm.sample()"
   ],
   "id": "947d63f28fa66ac9",
   "outputs": [],
   "execution_count": null
  },
  {
   "metadata": {},
   "cell_type": "code",
   "source": [
    "az.plot_trace(idata_g[2])\n",
    "plt.show()"
   ],
   "id": "1e2e608231a57d4f",
   "outputs": [],
   "execution_count": null
  },
  {
   "metadata": {},
   "cell_type": "code",
   "source": [
    "with pm.Model() as model_g[3]:\n",
    "    mu=pm.Normal('mu', mu=empirical_mean, sigma=sigmas[3])\n",
    "    sigma = pm.HalfNormal('sigma', sigma=5)\n",
    "    y = pm.Normal('y', mu=mu, sigma=sigma, observed=data)\n",
    "    idata_g[3] = pm.sample()"
   ],
   "id": "7ab45a7dd8656751",
   "outputs": [],
   "execution_count": null
  },
  {
   "metadata": {},
   "cell_type": "code",
   "source": [
    "az.plot_trace(idata_g[3])\n",
    "plt.show()"
   ],
   "id": "2a6e91e7c3f9955d",
   "outputs": [],
   "execution_count": null
  },
  {
   "metadata": {},
   "cell_type": "markdown",
   "source": [
    "Modelling the mean using a Gaussian distribution seems to make little\n",
    "difference even for a relatively small amount of data (40 samples).\n",
    "In my four experiments, I see that the mean seems to lie about 53\n",
    "and that sigma appears to be about 3.5.\n",
    "\n",
    "Although using a Gaussian, which has no bounds, seems to have no\n",
    "effect on the results, I would generally prefer to model my prior\n",
    "accurately instead of saying, \"Oh. I've got enough data. I'll just\n",
    "use a Gaussian.\" The behavior I see might be specific to the problem\n",
    "that I'm modelling here.\n",
    "\n",
    "Even though it is physically not possible to have values outside\n",
    "the range [0, 100], a Gaussian with a narrow enough standard\n",
    "deviation  may be similar enough. And I do know that enough data\n",
    "\"swamps the prior.\"\n",
    "\n",
    "However, I generally think it is better to use priors that reflect\n",
    "my actually belief about the problem. I believe that this choice is\n",
    "much more consistent with a \"Bayesian approach\" and is less likely\n",
    "to mislead me."
   ],
   "id": "ba7a3deba388e226"
  },
  {
   "metadata": {},
   "cell_type": "markdown",
   "source": [
    "6. Using data from the \"chemical_shifts.csv\" file, compute the empirical\n",
    "mean and the standard deviation with and without outliers."
   ],
   "id": "f9dbe2ea2f09ec38"
  },
  {
   "metadata": {},
   "cell_type": "code",
   "source": [
    "# Load the data\n",
    "data = np.loadtxt('./data/chemical_shifts.csv')\n",
    "data"
   ],
   "id": "a34a2d4b462e99c5",
   "outputs": [],
   "execution_count": null
  },
  {
   "metadata": {},
   "cell_type": "code",
   "source": [
    "# Plot the data using a boxplot\n",
    "_, ax = plt.subplots(figsize=(12, 3))\n",
    "ax.boxplot(data, vert=False)\n",
    "plt.show()"
   ],
   "id": "72c5a36e3cc60124",
   "outputs": [],
   "execution_count": null
  },
  {
   "metadata": {},
   "cell_type": "code",
   "source": "np.mean(data), np.std(data)",
   "id": "bdce9f93de9fa925",
   "outputs": [],
   "execution_count": null
  },
  {
   "metadata": {},
   "cell_type": "code",
   "source": [
    "data_series = pd.Series(data)\n",
    "data_noo= data_series[data_series < 60]\n",
    "data_noo"
   ],
   "id": "fbd2cb29afe3f25e",
   "outputs": [],
   "execution_count": null
  },
  {
   "metadata": {},
   "cell_type": "code",
   "source": [
    "# Plot the data without \"outliers\"\n",
    "_, ax = plt.subplots(figsize=(12, 3))\n",
    "ax.boxplot(data_noo, vert=False)\n",
    "plt.show()"
   ],
   "id": "7e6debc58577c714",
   "outputs": [],
   "execution_count": null
  },
  {
   "metadata": {},
   "cell_type": "code",
   "source": "np.mean(data_noo), np.std(data_noo)",
   "id": "2c8026d1f1a60e4",
   "outputs": [],
   "execution_count": null
  },
  {
   "metadata": {},
   "cell_type": "code",
   "source": [
    "with pm.Model() as model_g:\n",
    "    mu = pm.Uniform('mu', lower=40, upper=70)\n",
    "    sigma = pm.HalfNormal('sigma', sigma=5)\n",
    "    y = pm.Normal('y', mu=mu, sigma=sigma, observed=data)\n",
    "    idata_g = pm.sample()"
   ],
   "id": "576bb3e65d94958f",
   "outputs": [],
   "execution_count": null
  },
  {
   "metadata": {},
   "cell_type": "code",
   "source": [
    "az.plot_trace(idata_g)\n",
    "plt.show()"
   ],
   "id": "f4fc50e0fc3099de",
   "outputs": [],
   "execution_count": null
  },
  {
   "metadata": {},
   "cell_type": "code",
   "source": "az.summary(idata_g, kind='stats').round(2)",
   "id": "ef956b266eeaf08c",
   "outputs": [],
   "execution_count": null
  },
  {
   "metadata": {},
   "cell_type": "code",
   "source": [
    "az.plot_posterior(idata_g)\n",
    "plt.show()"
   ],
   "id": "50b059e4ffeb3327",
   "outputs": [],
   "execution_count": null
  },
  {
   "metadata": {},
   "cell_type": "code",
   "source": [
    "with pm.Model() as model_g_noo:\n",
    "    mu = pm.Uniform('mu', lower=40, upper=70)\n",
    "    sigma = pm.HalfNormal('sigma', sigma=5)\n",
    "    y = pm.Normal('y', mu=mu, sigma=sigma, observed=data_noo)\n",
    "    idata_g_noo = pm.sample()"
   ],
   "id": "50fad8005135d0a",
   "outputs": [],
   "execution_count": null
  },
  {
   "metadata": {},
   "cell_type": "code",
   "source": [
    "az.plot_trace(idata_g_noo)\n",
    "plt.show()"
   ],
   "id": "1d18a2486e94edc",
   "outputs": [],
   "execution_count": null
  },
  {
   "metadata": {},
   "cell_type": "code",
   "source": "az.summary(idata_g_noo, kind='stats').round(2)",
   "id": "73c137c67143b386",
   "outputs": [],
   "execution_count": null
  },
  {
   "metadata": {},
   "cell_type": "code",
   "source": [
    "az.plot_posterior(idata_g_noo)\n",
    "plt.show()"
   ],
   "id": "39f4a770333a264",
   "outputs": [],
   "execution_count": null
  },
  {
   "metadata": {},
   "cell_type": "code",
   "source": [
    "with pm.Model() as model_t:\n",
    "    mu = pm.Uniform('mu', lower=40, upper=70)\n",
    "    sigma = pm.HalfNormal('sigma', sigma=5)\n",
    "    nu = pm.Exponential('nu', 1/30)\n",
    "    y = pm.StudentT('y', mu=mu, nu=nu, observed=data)\n",
    "    idata_t = pm.sample()"
   ],
   "id": "41b164a40928e6ab",
   "outputs": [],
   "execution_count": null
  },
  {
   "metadata": {},
   "cell_type": "code",
   "source": [
    "az.plot_trace(idata_t)\n",
    "plt.show()"
   ],
   "id": "c6cd8494a7315c16",
   "outputs": [],
   "execution_count": null
  },
  {
   "metadata": {},
   "cell_type": "code",
   "source": "az.summary(idata_t, kind='stats').round(2)",
   "id": "c40c7a29dc118462",
   "outputs": [],
   "execution_count": null
  },
  {
   "metadata": {},
   "cell_type": "code",
   "source": [
    "az.plot_posterior(idata_t)\n",
    "plt.show()"
   ],
   "id": "4fc0c6130af5dab",
   "outputs": [],
   "execution_count": null
  },
  {
   "metadata": {},
   "cell_type": "code",
   "source": [
    "with pm.Model() as model_t_noo:\n",
    "    mu = pm.Uniform('mu', lower=40, upper=70)\n",
    "    sigma = pm.HalfNormal('sigma', sigma=5)\n",
    "    nu = pm.Exponential('nu', 1/30)\n",
    "    y = pm.StudentT('y', mu=mu, nu=nu, observed=data_noo)\n",
    "    idata_t_noo = pm.sample()"
   ],
   "id": "b9d0cf547fe446bf",
   "outputs": [],
   "execution_count": null
  },
  {
   "metadata": {},
   "cell_type": "code",
   "source": [
    "az.plot_trace(idata_t_noo)\n",
    "plt.show()"
   ],
   "id": "f496514ab9fd9d17",
   "outputs": [],
   "execution_count": null
  },
  {
   "metadata": {},
   "cell_type": "code",
   "source": "az.summary(idata_t_noo, kind='stats').round(2)",
   "id": "eda669362c3e38c9",
   "outputs": [],
   "execution_count": null
  },
  {
   "metadata": {},
   "cell_type": "code",
   "source": [
    "az.plot_posterior(idata_t_noo)\n",
    "plt.show()"
   ],
   "id": "a2eaa2d5362a1157",
   "outputs": [],
   "execution_count": null
  },
  {
   "metadata": {},
   "cell_type": "markdown",
   "source": [
    "Again, interesting... I see fewer differences between the models\n",
    "using Student's T distribution than I do between the models using\n",
    "the Normal distribution. This difference seems to indicate that a\n",
    "better model is more robust overall. Very interesting."
   ],
   "id": "75e1f69d72aabaf2"
  },
  {
   "metadata": {},
   "cell_type": "markdown",
   "source": [
    "7. Repeat the previous exercise by adding more outliers to\n",
    "`chemical_shifts.csv` and computer new posteriors for `model_g` and\n",
    "`model_t` using this new data. What do you observe."
   ],
   "id": "444f500093f47d15"
  },
  {
   "metadata": {},
   "cell_type": "code",
   "source": [
    "# Load the data\n",
    "data = np.loadtxt('./data/chemical_shifts.csv')\n",
    "data"
   ],
   "id": "d27a39ad6b292ea6",
   "outputs": [],
   "execution_count": null
  },
  {
   "metadata": {},
   "cell_type": "code",
   "source": [
    "# Add \"additional outliers.\"\n",
    "np.mean(data_noo), np.std(data_noo)"
   ],
   "id": "5f8a6d35c8f454bb",
   "outputs": [],
   "execution_count": null
  },
  {
   "metadata": {},
   "cell_type": "code",
   "source": [
    "data_outliers = np.array([42.24, 37.85])\n",
    "more_data = np.concatenate((data, data_outliers))\n",
    "more_data"
   ],
   "id": "a08725be479064c",
   "outputs": [],
   "execution_count": null
  },
  {
   "metadata": {},
   "cell_type": "code",
   "source": [
    "# Plot all the data\n",
    "_, ax = plt.subplots(figsize=(12, 3))\n",
    "ax.boxplot(more_data, vert=False)\n",
    "plt.show()"
   ],
   "id": "70f2c71310f81d71",
   "outputs": [],
   "execution_count": null
  },
  {
   "metadata": {},
   "cell_type": "code",
   "source": [
    "with pm.Model() as model_g_more_data:\n",
    "    mu = pm.Uniform('mu', lower=40, upper=70)\n",
    "    sigma = pm.HalfNormal('sigma', sigma=5)\n",
    "    y = pm.Normal('y', mu=mu, sigma=sigma, observed=more_data)\n",
    "    idata_g_more_data = pm.sample()"
   ],
   "id": "2a8c291be927dbfa",
   "outputs": [],
   "execution_count": null
  },
  {
   "metadata": {},
   "cell_type": "code",
   "source": [
    "az.plot_trace(idata_g_more_data)\n",
    "plt.show()"
   ],
   "id": "643f8fbb9e330090",
   "outputs": [],
   "execution_count": null
  },
  {
   "metadata": {},
   "cell_type": "code",
   "source": "az.summary(idata_g_more_data, kind='stats').round(2)",
   "id": "110efab3de7cdd54",
   "outputs": [],
   "execution_count": null
  },
  {
   "metadata": {},
   "cell_type": "code",
   "source": [
    "az.plot_posterior(idata_g_more_data)\n",
    "plt.show()"
   ],
   "id": "f6a7e6e4ce456125",
   "outputs": [],
   "execution_count": null
  },
  {
   "metadata": {},
   "cell_type": "code",
   "source": [
    "with pm.Model() as model_g_noo:\n",
    "    mu = pm.Uniform('mu', lower=40, upper=70)\n",
    "    sigma = pm.HalfNormal('sigma', sigma=5)\n",
    "    Y = pm.Normal('Y', mu=mu, sigma=sigma, observed=data)\n",
    "    idata_g_noo = pm.sample()"
   ],
   "id": "cb255b00b8e168cd",
   "outputs": [],
   "execution_count": null
  },
  {
   "metadata": {},
   "cell_type": "code",
   "source": [
    "az.plot_trace(idata_g_noo)\n",
    "plt.show()"
   ],
   "id": "bb8a39fc90b32f08",
   "outputs": [],
   "execution_count": null
  },
  {
   "metadata": {},
   "cell_type": "code",
   "source": "az.summary(idata_g_noo, kind='stats').round(2)",
   "id": "67e13782965740ac",
   "outputs": [],
   "execution_count": null
  },
  {
   "metadata": {},
   "cell_type": "code",
   "source": [
    "az.plot_posterior(idata_g_noo)\n",
    "plt.show()"
   ],
   "id": "dabd1fc262b17280",
   "outputs": [],
   "execution_count": null
  },
  {
   "metadata": {},
   "cell_type": "code",
   "source": [
    "with pm.Model() as model_t_more_data:\n",
    "    mu = pm.Uniform('mu', lower=40, upper=70)\n",
    "    sigma = pm.HalfNormal('sigma', sigma=5)\n",
    "    nu = pm.Exponential('nu', 1/30)\n",
    "    y = pm.StudentT('y', mu=mu, nu=nu, observed=data)\n",
    "    idata_t_more_data = pm.sample()"
   ],
   "id": "ead36b70728809fd",
   "outputs": [],
   "execution_count": null
  },
  {
   "metadata": {},
   "cell_type": "code",
   "source": [
    "az.plot_trace(idata_t_more_data)\n",
    "plt.show()"
   ],
   "id": "7c4cb33cce81b192",
   "outputs": [],
   "execution_count": null
  },
  {
   "metadata": {},
   "cell_type": "code",
   "source": "az.summary(idata_t_more_data, kind='stats').round(2)",
   "id": "d9218839d5467e84",
   "outputs": [],
   "execution_count": null
  },
  {
   "metadata": {},
   "cell_type": "code",
   "source": [
    "az.plot_posterior(idata_t_more_data)\n",
    "plt.show()"
   ],
   "id": "43782178b58e8fc8",
   "outputs": [],
   "execution_count": null
  },
  {
   "metadata": {},
   "cell_type": "code",
   "source": [
    "with pm.Model() as model_t_noo:\n",
    "    mu = pm.Uniform('mu', lower=40, upper=70)\n",
    "    sigma = pm.HalfNormal('sigma', sigma=5)\n",
    "    nu = pm.Exponential('nu', 1/30)\n",
    "    y = pm.StudentT('y', mu=mu, nu=nu, observed=data_noo)\n",
    "    idata_t_noo = pm.sample()"
   ],
   "id": "b94df611f7e3ba6b",
   "outputs": [],
   "execution_count": null
  },
  {
   "metadata": {},
   "cell_type": "code",
   "source": [
    "az.plot_trace(idata_t_noo)\n",
    "plt.show()"
   ],
   "id": "5abf23c10a96c33c",
   "outputs": [],
   "execution_count": null
  },
  {
   "metadata": {},
   "cell_type": "code",
   "source": "az.summary(idata_t_noo, kind='stats').round(2)",
   "id": "8de76a7a0c202dec",
   "outputs": [],
   "execution_count": null
  },
  {
   "metadata": {},
   "cell_type": "code",
   "source": [
    "az.plot_posterior(idata_t_noo)\n",
    "plt.show()"
   ],
   "id": "5fbc01501c2e0274",
   "outputs": [],
   "execution_count": null
  },
  {
   "metadata": {},
   "cell_type": "markdown",
   "source": [
    "Again, with additional \"outliers\", the original data shows the larger\n",
    "standard deviation. But, again, the posterior seems a bit more robust\n",
    "against these outliers. And, again, the Normal is affected more by\n",
    "the outliers than the Student's T distribution."
   ],
   "id": "abbf752e538aed86"
  },
  {
   "metadata": {},
   "cell_type": "markdown",
   "source": "8. Explore the InferenceData object, `idata_cg`.",
   "id": "c762a03336265991"
  },
  {
   "metadata": {},
   "cell_type": "code",
   "source": [
    "# Load the tips data\n",
    "tips = pd.read_csv('./data/tips.csv')\n",
    "\n",
    "# Set up the categories of interest\n",
    "categories = np.array(['Thu', 'Fri', 'Sat', 'Sun'])\n",
    "tip = tips['tip'].values\n",
    "idx = pd.Categorical(tips['day'], categories=categories).codes\n",
    "\n",
    "# Set up our model with the created coordinates\n",
    "coords = {'days': categories, 'days_flat': categories[idx]}\n",
    "with pm.Model(coords=coords) as comparing_groups:\n",
    "    mu = pm.HalfNormal('mu', sigma=5, dims='days')\n",
    "    sigma = pm.HalfNormal('sigma', sigma=1, dims='days')\n",
    "    y = pm.Gamma('y', mu=mu[idx], sigma=sigma[idx],\n",
    "                 observed=tip, dims='days_flat')\n",
    "\n",
    "    idata_cg = pm.sample(random_seed=4591)\n",
    "    idata_cg.extend(pm.sample_posterior_predictive(idata_cg, random_seed=4591))"
   ],
   "id": "5894d5b21409def6",
   "outputs": [],
   "execution_count": null
  },
  {
   "metadata": {},
   "cell_type": "code",
   "source": "idata_cg",
   "id": "ecc71e0ec7010539",
   "outputs": [],
   "execution_count": null
  },
  {
   "metadata": {},
   "cell_type": "code",
   "source": "dir(idata_cg)",
   "id": "3e3df19331e8da27",
   "outputs": [],
   "execution_count": null
  },
  {
   "metadata": {},
   "cell_type": "code",
   "source": "idata_cg.groups()",
   "id": "4bed5968c02a904f",
   "outputs": [],
   "execution_count": null
  },
  {
   "metadata": {},
   "cell_type": "markdown",
   "source": [
    "How many groups does it cantain?\n",
    "\n",
    "The `InferenceData`  contains four (4) groups."
   ],
   "id": "7d83941e2bcbce89"
  },
  {
   "metadata": {},
   "cell_type": "markdown",
   "source": [
    "Inspect the posterior distribution of the parameter $\\mu$ for a specific\n",
    "day using the `sel()` method."
   ],
   "id": "547f8d34245187d"
  },
  {
   "metadata": {},
   "cell_type": "code",
   "source": "type(idata_cg.posterior)",
   "id": "31c67d52228fa746",
   "outputs": [],
   "execution_count": null
  },
  {
   "metadata": {},
   "cell_type": "code",
   "source": "idata_cg.sel(draw=0, chain=[0, 2])",
   "id": "a5b08681326ad03d",
   "outputs": [],
   "execution_count": null
  },
  {
   "metadata": {},
   "cell_type": "code",
   "source": "idata_cg.posterior['mu']",
   "id": "2429ca5f2d565b80",
   "outputs": [],
   "execution_count": null
  },
  {
   "metadata": {},
   "cell_type": "code",
   "source": "idata_cg.posterior['mu'].sel(days='Thu')",
   "id": "8bcb9162739a19b",
   "outputs": [],
   "execution_count": null
  },
  {
   "metadata": {},
   "cell_type": "markdown",
   "source": [
    "Compute the distributions of mean differences between Thursday and\n",
    "Sunday. What are the coordinates and dimensions of the resulting\n",
    "`DataArray`?"
   ],
   "id": "9b06c26c23b81b4"
  },
  {
   "metadata": {},
   "cell_type": "code",
   "source": "idata_cg.posterior.mean()",
   "id": "621aec069bfc6ba7",
   "outputs": [],
   "execution_count": null
  },
  {
   "metadata": {},
   "cell_type": "code",
   "source": "idata_cg.posterior.mean('draw')",
   "id": "f9735e05f5e991c0",
   "outputs": [],
   "execution_count": null
  },
  {
   "metadata": {},
   "cell_type": "code",
   "source": [
    "stacked = az.extract(idata_cg)\n",
    "stacked"
   ],
   "id": "50fcb3237e69df09",
   "outputs": [],
   "execution_count": null
  },
  {
   "metadata": {},
   "cell_type": "code",
   "source": "stacked['mu']",
   "id": "2372e1f2ff78efa6",
   "outputs": [],
   "execution_count": null
  },
  {
   "metadata": {},
   "cell_type": "code",
   "source": "stacked['mu'].sel(days='Thu') - stacked['mu'].sel(days='Sun')",
   "id": "26836567750de020",
   "outputs": [],
   "execution_count": null
  },
  {
   "metadata": {},
   "cell_type": "code",
   "source": "stacked['mu'].sel(days='Thu').mean() - stacked['mu'].sel(days='Sun').mean()",
   "id": "f10aed04acf11065",
   "outputs": [],
   "execution_count": null
  },
  {
   "metadata": {},
   "cell_type": "code",
   "source": "stacked['mu'].sel(days='Thu') - stacked['mu'].sel(days='Sun')",
   "id": "985c34d097a97bb1",
   "outputs": [],
   "execution_count": null
  },
  {
   "metadata": {},
   "cell_type": "code",
   "source": "idata_cg.posterior['mu'].sel(days='Thu') - idata_cg.posterior['mu'].sel(days='Sun')",
   "id": "99cdafa8f7029efa",
   "outputs": [],
   "execution_count": null
  },
  {
   "metadata": {},
   "cell_type": "code",
   "source": "",
   "id": "5fcdccc4a4ca40f8",
   "outputs": [],
   "execution_count": null
  }
 ],
 "metadata": {
  "kernelspec": {
   "display_name": "Python 3",
   "language": "python",
   "name": "python3"
  },
  "language_info": {
   "codemirror_mode": {
    "name": "ipython",
    "version": 2
   },
   "file_extension": ".py",
   "mimetype": "text/x-python",
   "name": "python",
   "nbconvert_exporter": "python",
   "pygments_lexer": "ipython2",
   "version": "2.7.6"
  }
 },
 "nbformat": 4,
 "nbformat_minor": 5
}
