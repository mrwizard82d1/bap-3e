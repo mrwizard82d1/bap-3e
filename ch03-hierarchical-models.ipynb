{
 "cells": [
  {
   "metadata": {},
   "cell_type": "markdown",
   "source": "# 3. Hierarchical Models",
   "id": "9386980636bf4583"
  },
  {
   "metadata": {},
   "cell_type": "markdown",
   "source": [
    "We previously modelled tips for each day as completely independent of\n",
    "any other day. Perhaps this implicit assumption is not correct. How\n",
    "might we improve our tips model?\n",
    "\n",
    "One idea: a hierarchical model where each day has a **hyper-prior**\n",
    "that allows days to be **simultaneously** independent and related."
   ],
   "id": "1f79ff260820a9f1"
  },
  {
   "metadata": {},
   "cell_type": "markdown",
   "source": "## 3.1 Sharing information, sharing priors",
   "id": "97115824a93dfac5"
  },
  {
   "metadata": {},
   "cell_type": "markdown",
   "source": [
    "Hierarchical models are particularly useful when the data has a\n",
    "natural hierarchy. Some examples are:\n",
    "\n",
    "- Geographical regions (for example, cities, counties, and states)\n",
    "- Students within schools\n",
    "- Patients nested with hospitals\n",
    "- Repeated measurements **on the same** individuals\n",
    "\n",
    "In a hierarchical model, the parameters of the priors are themselves\n",
    "drawn from another (prior) distribution (often called **hyperpriors**).\n",
    "This structure allows groups to be different but also to share\n",
    "information between groups while, at the same time, allowing\n",
    "**differences between groups.**\n",
    "\n"
   ],
   "id": "7f5502e2272c11b4"
  },
  {
   "metadata": {},
   "cell_type": "code",
   "source": [
    "# Perform our typical data science and PyMC imports\n",
    "\n",
    "# Import cytoolz for data manipulation\n",
    "import cytoolz.curried as ctc\n",
    "\n",
    "# Import PyMC and supporting packages\n",
    "import arviz as az\n",
    "import pymc as pm\n",
    "import preliz as pz\n",
    "\n",
    "# Import other \"data science\" packages\n",
    "import numpy as np\n",
    "import matplotlib.pyplot as plt\n",
    "import pandas as pd\n",
    "from torch.utils.model_dump import hierarchical_pickle"
   ],
   "id": "c433b1cbf9f0c21e",
   "outputs": [],
   "execution_count": null
  },
  {
   "metadata": {},
   "cell_type": "code",
   "source": [
    "# Some additional initialization (for consistency)\n",
    "az.style.use('arviz-grayscale')\n",
    "from cycler import cycler\n",
    "default_cycler = cycler(color=[\"#000000\", \"#6a6a6a\", \"#bebebe\", \"#2a2eec\"])\n",
    "plt.rc('axes', prop_cycle=default_cycler)\n",
    "plt.rc('figure', dpi=300)\n",
    "\n",
    "# Set a consistent random seed\n",
    "rng = np.random.default_rng(seed=123)"
   ],
   "id": "5a27def215e67a62",
   "outputs": [],
   "execution_count": null
  },
  {
   "metadata": {},
   "cell_type": "markdown",
   "source": "## 3.2 Hierarchical shifts",
   "id": "a2ad7867b9d0b565"
  },
  {
   "metadata": {},
   "cell_type": "markdown",
   "source": [
    "Proteins are molecules formed by 20 units call amino acids. And each\n",
    "amino acid can appear in a protein zero or more times.\n",
    "\n",
    "One way to study proteins is nuclear magnetic resonance. This technique\n",
    "allows us to measure different quantities such as the chemical shift.\n",
    "\n",
    "Suppose we want to compare a theoretical method of computing chemical\n",
    "shifts with experimental observations. This experiment allows us to\n",
    "evaluate the theory.\n",
    "\n",
    "Luckily, someone has already performed both the theoretical calculations\n",
    "and the experiments. We just need to perform the comparison.\n",
    "\n",
    "The data frame, indicated by the variable, `cs_data`, has four columns:\n",
    "\n",
    "- A code that identifies the protein\n",
    "- A second column that names the amino acid\n",
    "- The third column contains the theoretical chemical shift values\n",
    "- The fourth column has the experimental values\n"
   ],
   "id": "5b5207d07ebaf00f"
  },
  {
   "metadata": {},
   "cell_type": "code",
   "source": [
    "# Import the data of interest\n",
    "cs_data = pd.read_csv('data/chemical_shifts_theo_exp.csv')\n",
    "cs_data"
   ],
   "id": "f1f0dc4e991db3f9",
   "outputs": [],
   "execution_count": null
  },
  {
   "metadata": {},
   "cell_type": "code",
   "source": [
    "# The difference (`diff`) is our measure of interest\n",
    "diff = cs_data.theo - cs_data.exp\n",
    "\n",
    "# Encode the amino acid name as categories\n",
    "cat_encode = pd.Categorical(cs_data['aa']) # amino acid\n",
    "idx = cat_encode.codes\n",
    "\n",
    "# Use the categories as \"coordinates\"\n",
    "coords = {'aa': cat_encode.categories}"
   ],
   "id": "12839dcd2e4f427b",
   "outputs": [],
   "execution_count": null
  },
  {
   "metadata": {},
   "cell_type": "code",
   "source": "diff",
   "id": "ae1566db763f993c",
   "outputs": [],
   "execution_count": null
  },
  {
   "metadata": {},
   "cell_type": "markdown",
   "source": [
    "Now that we have the data, how should we proceed? One option: take the\n",
    "empirical differences and fit a Gaussian or Student's T model. Because\n",
    "amino acids are a \"family,\" it would make sense to assume they are all\n",
    "the same and estimate a single Gaussian for **all** the differences.\n",
    "\n",
    "But one may argue: Is not each amino acid different from all the others?\n",
    "Biologically, yes. Chemically, yes, but I am uncertain how different. If\n",
    "we treat each amino acid differently from all the others, will my model\n",
    "of reality be better than a single model?\n",
    "\n",
    "Here are some of the consequences:\n",
    "\n",
    "| Single model                        | Multiple models                               |\n",
    "|-------------------------------------|-----------------------------------------------|\n",
    "| Our estimates will be more accurate | More detailed analysis but with less accuracy |\n",
    "\n",
    "What should we do?\n",
    "\n",
    "When in doubt, do **everything**! We will build a hierarchical model.\n",
    "This choice allows estimates at a group level with a \"restriction\"\n",
    "that all items belong to a larger group or population.\n",
    "\n",
    "However, to see the difference, we will actually build **two models**.\n",
    "\n",
    "- A non-hierarchical (unpooled) model\n",
    "- A hierarchical model\n",
    "\n",
    "For reference, the unpooled model is essentially the same as our\n",
    "`comparing_groups` model from [chapter 2](./ch02-prog-probabilistically.ipynb)."
   ],
   "id": "da293609e78fb9da"
  },
  {
   "metadata": {},
   "cell_type": "code",
   "source": [
    "# Our non-hierarchical model\n",
    "with pm.Model(coords=coords) as cs_nh: # chemical shifts non-hierarchical\n",
    "    mu = pm.Normal('mu', mu=00, sigma=10, dims='aa')\n",
    "    sigma = pm.HalfNormal('sigma', sigma=10, dims='aa')\n",
    "    y = pm.Normal('y', mu=mu[idx], sigma=sigma[idx], observed=diff)\n",
    "\n",
    "    idata_cs_nh = pm.sample()"
   ],
   "id": "12873c54a172f6ed",
   "outputs": [],
   "execution_count": null
  },
  {
   "metadata": {},
   "cell_type": "markdown",
   "source": [
    "Now we will build the hierarchical version of the model.\n",
    "\n",
    "We add **two** hyperpriors:\n",
    "\n",
    "- One for the mean of $\\mu$\n",
    "- One for the standard deviation of $\\mu$\n",
    "\n",
    "We leave $\\sigma$ **without** hyperpriors; that is, we assume that the\n",
    "variance between observed and theoretical values should be unique\n",
    "**for each group.**. This choice is a **modelling choice**. Remember\n",
    "that you may face a problem in which independent variances does not\n",
    "seem reasonable. In this situation, feel free to add a hyperprior\n",
    "for $\\sigma$."
   ],
   "id": "d9029dc0ef92a010"
  },
  {
   "metadata": {},
   "cell_type": "code",
   "source": [
    "with pm.Model(coords=coords) as cs_h:\n",
    "    # Hyper priors\n",
    "    mu_mu = pm.Normal('mu_mu', mu=0, sigma=10)\n",
    "    mu_sd = pm.HalfNormal('mu_sd', sigma=10)\n",
    "\n",
    "    # Priors\n",
    "    mu = pm.Normal('mu', mu=mu_mu, sigma=mu_sd, dims='aa')\n",
    "    sigma = pm.HalfNormal('sigma', sigma=10, dims='aa')\n",
    "\n",
    "    # Likelihood\n",
    "    y = pm.Normal('y', mu=mu[idx], sigma=sigma[idx], observed=diff)\n",
    "    idata_cs_h = pm.sample()"
   ],
   "id": "4552fc051c69ef29",
   "outputs": [],
   "execution_count": null
  },
  {
   "metadata": {},
   "cell_type": "code",
   "source": "pm.model_to_graphviz(cs_nh)",
   "id": "b4df9b78963c81d5",
   "outputs": [],
   "execution_count": null
  },
  {
   "metadata": {},
   "cell_type": "code",
   "source": "pm.model_to_graphviz(cs_h)\n",
   "id": "86d0800bca1d80b4",
   "outputs": [],
   "execution_count": null
  },
  {
   "metadata": {},
   "cell_type": "markdown",
   "source": [
    "We can compare results using the `plot_forest` function of `ArviZ`.\n",
    "We can pass more than one model to this function.\n",
    "\n",
    "Plotting multiple models is useful when we want to compare the values\n",
    "of parameters from different models - like the current example.\n",
    "\n",
    "The plot includes both the 94% HDI and the inter-quartile range. The\n",
    "vertical dashed line is the global mean according to the hierarchical\n",
    "model. This value is close to zero which is expected for theoretical\n",
    "values faithfully representing experimental ones."
   ],
   "id": "39d266457d86cbfe"
  },
  {
   "metadata": {},
   "cell_type": "code",
   "source": [
    "axes = az.plot_forest(\n",
    "    [idata_cs_nh, idata_cs_h],\n",
    "    model_names=['non-hierarchical', 'hierarchical'],\n",
    "    var_names='mu',\n",
    "    combined=True,\n",
    "    r_hat=False,\n",
    "    ess=False,\n",
    "    figsize=(10, 7),\n",
    "    colors='cycle',\n",
    ")\n",
    "y_lims = axes[0].get_ylim()\n",
    "axes[0].vlines(idata_cs_h.posterior['mu_mu'].mean(),\n",
    "               *y_lims,\n",
    "               color='k',\n",
    "               ls=':')\n",
    "plt.show()"
   ],
   "id": "7243483530f3f91e",
   "outputs": [],
   "execution_count": null
  },
  {
   "metadata": {},
   "cell_type": "markdown",
   "source": [
    "The most relevant part of this plot is that the estimates from the\n",
    "hierarchical model are pulled toward the partially pooled mean;\n",
    "equivalently, they are shrunken in comparison to the unpooled estimates.\n",
    "Additionally, the effect is more pronounced for the groups farther away\n",
    "from the mean (such as \"PRO\"). That uncertainty is on par with or\n",
    "smaller than the uncertainty from the non-hierarchical model. The\n",
    "estimates are partially pooled because we have one estimate for each\n",
    "group, but estimates for individual groups restrict each other through\n",
    "the hyperprior. Therefore, we get an intermediate situation between\n",
    "having a single group with all the chemical shifts together and\n",
    "having 20 separate groups, one per amino acid."
   ],
   "id": "9d3f71522201de5d"
  },
  {
   "metadata": {},
   "cell_type": "code",
   "source": "",
   "id": "ee01139af21b3a8c",
   "outputs": [],
   "execution_count": null
  }
 ],
 "metadata": {
  "kernelspec": {
   "display_name": "Python 3",
   "language": "python",
   "name": "python3"
  },
  "language_info": {
   "codemirror_mode": {
    "name": "ipython",
    "version": 2
   },
   "file_extension": ".py",
   "mimetype": "text/x-python",
   "name": "python",
   "nbconvert_exporter": "python",
   "pygments_lexer": "ipython2",
   "version": "2.7.6"
  }
 },
 "nbformat": 4,
 "nbformat_minor": 5
}
