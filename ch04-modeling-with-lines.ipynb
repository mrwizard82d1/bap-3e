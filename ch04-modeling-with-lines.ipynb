{
 "cells": [
  {
   "metadata": {},
   "cell_type": "markdown",
   "source": "# 4. Modeling with Lines",
   "id": "f315306e55934bb"
  },
  {
   "metadata": {},
   "cell_type": "markdown",
   "source": [
    "In this chapter, we look at a common motif in statistics: **linear models**.\n",
    "\n",
    "This chapter will cover the following topics:\n",
    "\n",
    "- Simple linear regression\n",
    "- NegativeBinomial regression\n",
    "- Robust regression\n",
    "- Logistic regression\n",
    "- Variable variance\n",
    "- Hierarchical linear regression\n",
    "- Multiple linear regression\n"
   ],
   "id": "7a8af55da670c0ca"
  },
  {
   "metadata": {},
   "cell_type": "markdown",
   "source": "## 4.1 Simple linear regression",
   "id": "37fea922a2a8c44f"
  },
  {
   "metadata": {},
   "cell_type": "markdown",
   "source": [
    "Many problems in science, engineering, and business have a linear form.\n",
    "That is, we have a variable, $X$, and we want to model or predict a\n",
    "variable, $Y$, and the relationship between element of $X$ and $Y$\n",
    "is a **linear** relationship.\n",
    "\n",
    "In the simplest scenario, simple linear regression, both $X$ and $Y$\n",
    "are uni-dimensional continuous **random** variables.\n",
    "\n",
    "Typically, we use the following terminology:\n",
    "\n",
    "- $Y$ is the **dependent**, **predicted**, or **outcome** variable\n",
    "- $X$ is the **independent**, **predictor** or **input** variable\n",
    "\n",
    "Some typical situations where the linear regression model can be use are:\n",
    "\n",
    "- Model the relationship between soil salinity and crop productivity.\n",
    "Then answer questions like \"Is this relationship linear?\" or \"How\n",
    "strong is this relationship?\"\n",
    "- Find a relationship between the average chocolate consumption by\n",
    "country and the number of Nobel laureates in that country, and then\n",
    "understand why that relationship could be **spurious**.\n",
    "- Predict the gas bill (used for heating and cooking) of your house\n",
    "by using the solar radiation from the local weather report. How\n",
    "accurate is this prediction?"
   ],
   "id": "d9ea7f9cc3813661"
  },
  {
   "metadata": {},
   "cell_type": "markdown",
   "source": [
    "In _Chapter 2_, we saw the Normal model. We can think of this model\n",
    "as follows:\n",
    "\n",
    "$$\n",
    "\\begin{align*}\n",
    "\\mu &\\sim some\\ prior \\\\\n",
    "\\sigma &\\sim some\\ other\\ prior \\\\\n",
    "Y &\\sim \\mathcal{N}(\\mu, \\sigma)\n",
    "\\end{align*}\n",
    "$$\n",
    "\n",
    "The main idea of linear regression is to extend this model by adding\n",
    "a predictor variable $X$ to the estimation of mean, $\\mu$.\n",
    "\n",
    "$$\n",
    "\\begin{align*}\n",
    "\\alpha &\\sim a\\ prior \\\\\n",
    "\\beta &\\sim another\\ prior \\\\\n",
    "\\sigma &\\sim some\\ other\\ prior \\\\\n",
    "\\mu &= \\alpha + \\beta X \\\\\n",
    "Y &\\sim \\mathcal{N}(\\mu, \\sigma)\n",
    "\\end{align*}\n",
    "$$\n",
    "\n",
    "This model says that a linear relationship exists between $X$\n",
    "and $Y$. However, that relationship is **not deterministic**\n",
    "because of the noise term, $\\sigma$.\n",
    "\n",
    "Additionally, this model states that the mean of $Y$ is a linear\n",
    "function of $X$ with **intercept** $\\alpha$ and **slope** $\\beta$.\n",
    "However, because we **do not know** the values of $\\alpha$, $\\beta$,\n",
    "or $\\sigma$, we set prior distributions over them."
   ],
   "id": "bd10fb9b5975a730"
  },
  {
   "metadata": {},
   "cell_type": "markdown",
   "source": [
    "Typically, when setting priors for linear models, we **assume** that\n",
    "the priors are **independent**. Because the priors are independent, we\n",
    "model the problem using three different priors instead of a single,\n",
    "joint prior.\n",
    "\n",
    "Additionally, because $\\sigma$ is a positive number, it is common\n",
    "to use the distribution:\n",
    "\n",
    "- HalfNormal\n",
    "- Exponential\n",
    "- HalfCauchy\n",
    "- And so on"
   ],
   "id": "9c56f107171d010c"
  },
  {
   "metadata": {},
   "cell_type": "markdown",
   "source": [
    "The values for the intercept can vary widely from one problem to\n",
    "another and for different domains. In the experience of the author,\n",
    "\n",
    "- $\\alpha$ is usually centered around 0 and has a standard deviation\n",
    "no larger than 1\n",
    "- It is easier to have an informed prior for the slope, $\\beta$\n",
    "- For $\\sigma$, we can set it to a large value on the scale of $Y$\n",
    "For example, twice the value of its standard deviation.\n",
    "\n",
    "We should be cautious of using observed data to determine\n",
    "(\"guesstimate\") priors. It is usually fine to use the observed data\n",
    "if we want to avoid very restrictive priors; however, a more general\n",
    "principle is that if we don't have much knowledge of a parameter,\n",
    "it makes sense to ensure that our prior is **vague**.\n",
    "\n",
    "How do we make our priors more informative? We need to get informative\n",
    "priors from our **domain knowledge**."
   ],
   "id": "caf791f377ca27f2"
  },
  {
   "metadata": {},
   "cell_type": "markdown",
   "source": [
    "**Extending the Normal Model**\n",
    "\n",
    "In summary, \"a linear regression model is an extension of the\n",
    "Normal model where the mean is computed as a linear function of a\n",
    "predictor variable.\""
   ],
   "id": "519b62d981036fb2"
  },
  {
   "metadata": {},
   "cell_type": "code",
   "source": "",
   "id": "7ce0ded0bddda0f5",
   "outputs": [],
   "execution_count": null
  }
 ],
 "metadata": {
  "kernelspec": {
   "display_name": "Python 3",
   "language": "python",
   "name": "python3"
  },
  "language_info": {
   "codemirror_mode": {
    "name": "ipython",
    "version": 2
   },
   "file_extension": ".py",
   "mimetype": "text/x-python",
   "name": "python",
   "nbconvert_exporter": "python",
   "pygments_lexer": "ipython2",
   "version": "2.7.6"
  }
 },
 "nbformat": 4,
 "nbformat_minor": 5
}
