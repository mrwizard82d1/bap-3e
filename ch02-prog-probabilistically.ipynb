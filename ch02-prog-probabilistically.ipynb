{
 "cells": [
  {
   "cell_type": "markdown",
   "id": "73e9157f-ffc9-44f5-b020-7422e86c0dd3",
   "metadata": {},
   "source": [
    "## Ch. 02- Programming Probabilistically"
   ]
  },
  {
   "cell_type": "code",
   "execution_count": null,
   "id": "79282b3286f3013b",
   "metadata": {
    "ExecuteTime": {
     "end_time": "2025-01-14T03:12:01.165277Z",
     "start_time": "2025-01-14T03:11:50.624875Z"
    }
   },
   "outputs": [],
   "source": [
    "# Import pymc and related code\n",
    "import arviz as az\n",
    "import pymc as pm\n",
    "import preliz as pz"
   ]
  },
  {
   "cell_type": "code",
   "execution_count": null,
   "id": "initial_id",
   "metadata": {
    "ExecuteTime": {
     "end_time": "2025-01-14T03:12:01.179148Z",
     "start_time": "2025-01-14T03:12:01.176858Z"
    }
   },
   "outputs": [],
   "source": [
    "# Import other \"data science libraries\"\n",
    "import pandas as pd\n",
    "import matplotlib.pyplot as plt\n",
    "import numpy as np"
   ]
  },
  {
   "cell_type": "markdown",
   "id": "c5b137c5-a8cc-426e-ac45-22a6225b2c8d",
   "metadata": {},
   "source": [
    "## 2.1 Probabilistic programming"
   ]
  },
  {
   "cell_type": "markdown",
   "id": "60d175cd-8621-4016-9308-1dd24ed40933",
   "metadata": {
    "ExecuteTime": {
     "end_time": "2025-01-14T03:12:01.187867Z",
     "start_time": "2025-01-14T03:12:01.185864Z"
    }
   },
   "source": [
    "#### 2.1.1 Flipping coins the PyMC way2.1.1 Flipping coins the PyMC way"
   ]
  },
  {
   "cell_type": "code",
   "execution_count": null,
   "id": "62c6b0dc-3f6b-42e3-ba20-ad6eb1f791aa",
   "metadata": {
    "ExecuteTime": {
     "end_time": "2025-01-14T03:12:01.187867Z",
     "start_time": "2025-01-14T03:12:01.185864Z"
    }
   },
   "outputs": [],
   "source": [
    "# Initialize repeatable random number generator\n",
    "rng = np.random.default_rng(123)"
   ]
  },
  {
   "cell_type": "code",
   "execution_count": null,
   "id": "52045298c1db82ce",
   "metadata": {
    "ExecuteTime": {
     "end_time": "2025-01-14T03:12:01.196106Z",
     "start_time": "2025-01-14T03:12:01.192791Z"
    }
   },
   "outputs": [],
   "source": [
    "# Generate \"fake real data\"\n",
    "trials = 4\n",
    "theta_real = 0.35 # unknown in a real experiment\n",
    "data = pz.Binomial(\n",
    "    n=1,\n",
    "    p=theta_real).rvs(trials,\n",
    "                      random_state=rng.integers(np.iinfo(np.int32).max))"
   ]
  },
  {
   "cell_type": "code",
   "execution_count": null,
   "id": "b189ba0c0116146d",
   "metadata": {
    "ExecuteTime": {
     "end_time": "2025-01-14T03:12:01.363315Z",
     "start_time": "2025-01-14T03:12:01.201554Z"
    }
   },
   "outputs": [],
   "source": [
    "plt.scatter(range(trials), data)\n",
    "plt.show()"
   ]
  },
  {
   "cell_type": "code",
   "execution_count": null,
   "id": "78d7fed8-92b6-4228-aedd-4262441a2e20",
   "metadata": {
    "ExecuteTime": {
     "end_time": "2025-01-14T03:12:07.454802Z",
     "start_time": "2025-01-14T03:12:01.487848Z"
    }
   },
   "outputs": [],
   "source": [
    "with pm.Model() as our_first_model:\n",
    "    θ = pm.Beta('θ', alpha=1., beta=1.)\n",
    "    y = pm.Bernoulli('y', p=θ, observed=data)\n",
    "    idata = pm.sample(1000)"
   ]
  },
  {
   "cell_type": "markdown",
   "id": "0d5c8008-bedd-48c0-ace6-ece7071d373b",
   "metadata": {},
   "source": [
    "### 2.2 Summarizing the posterior"
   ]
  },
  {
   "cell_type": "code",
   "execution_count": null,
   "id": "b1aa1f02-dcb4-4067-8312-d4b4e444d133",
   "metadata": {},
   "outputs": [],
   "source": [
    "az.plot_trace(idata)"
   ]
  },
  {
   "cell_type": "code",
   "execution_count": null,
   "id": "8e91b3e3-1f33-4b23-95ee-6d46dfe5a358",
   "metadata": {},
   "outputs": [],
   "source": [
    "az.plot_trace(idata, kind='rank_bars', combined=True)"
   ]
  },
  {
   "cell_type": "code",
   "execution_count": null,
   "id": "e39e0a99-e9e8-42cc-aef5-ebfe4328766f",
   "metadata": {},
   "outputs": [],
   "source": [
    "az.plot_posterior(idata)"
   ]
  },
  {
   "cell_type": "markdown",
   "id": "8d4ea240-9b82-4f94-97e4-a8e3905012d7",
   "metadata": {},
   "source": [
    "### 2.3 Posterior-based decisions"
   ]
  },
  {
   "cell_type": "markdown",
   "id": "fb44415e-b7b0-4541-8fa4-9d11e9c283d6",
   "metadata": {},
   "source": [
    "### 2.3.1 Savage-Dickey density ration"
   ]
  },
  {
   "cell_type": "code",
   "execution_count": null,
   "id": "461dcfc1-acd9-4f9d-925d-92ea4ce8ffff",
   "metadata": {},
   "outputs": [],
   "source": [
    "az.plot_bf(idata, var_name='θ', prior=rng.uniform(0, 1, 10000), ref_val=0.5)"
   ]
  },
  {
   "cell_type": "markdown",
   "id": "daec4ead-0ef8-4736-b35e-7c312985a77e",
   "metadata": {},
   "source": [
    "#### 2.3.2 Region of Practical Equivalence"
   ]
  },
  {
   "cell_type": "code",
   "execution_count": null,
   "id": "ad6c9a20-1001-42b8-9e19-466b59e2c7a1",
   "metadata": {},
   "outputs": [],
   "source": [
    "az.plot_posterior(idata, rope=[0.45, 0.55])"
   ]
  },
  {
   "cell_type": "code",
   "execution_count": null,
   "id": "93d74b9e-142f-4024-adc0-cdf35539ada7",
   "metadata": {},
   "outputs": [],
   "source": [
    "az.plot_posterior(idata, ref_val=0.5)"
   ]
  },
  {
   "cell_type": "markdown",
   "id": "a687f859-eba3-4f39-8520-15b9dff02a0d",
   "metadata": {},
   "source": [
    "#### 2.3.3 Loss functions"
   ]
  },
  {
   "cell_type": "code",
   "execution_count": null,
   "id": "4efc5923-3e96-48cf-89f1-7432f70c3775",
   "metadata": {},
   "outputs": [],
   "source": [
    "# Plot the loss\n",
    "# The plotting part of this code is from \n",
    "# [the chapter 02 code](https://github.com/aloctavodia/BAP3/blob/main/code/Chp_02.ipynb).\n",
    "grid = np.linspace(0, 1, 200)\n",
    "θ_pos = idata.posterior['θ']\n",
    "lossf_a = [np.mean(abs(i - θ_pos)) for i in grid]\n",
    "lossf_b = [np.mean((i - θ_pos) ** 2) for i in grid]\n",
    "\n",
    "_, ax = plt.subplots(figsize=(12, 3))\n",
    "for lossf, c in zip([lossf_a, lossf_b], ['C0', 'C1']):\n",
    "    mini = np.argmin(lossf)\n",
    "    ax.plot(grid, lossf, c)\n",
    "    ax.plot(grid[mini], lossf[mini], 'o', color=c)\n",
    "    ax.annotate('{:.2f}'.format(grid[mini]),\n",
    "                (grid[mini], lossf[mini] + 0.03),\n",
    "                color=c)\n",
    "\n",
    "    ax.set_yticks([])\n",
    "    ax.set_xlabel(r'$\\hat \\theta$')\n",
    "\n",
    "plt.show()"
   ]
  },
  {
   "cell_type": "code",
   "execution_count": null,
   "id": "ee5ce6c0-0963-4664-bffb-5c1ac32ebef8",
   "metadata": {},
   "outputs": [],
   "source": [
    "# A (silly) assymetric loss function\n",
    "lossf = []\n",
    "for i in grid:\n",
    "    if i < 0.5:\n",
    "        f = 1 / np.median(θ_pos / np.abs(i**2 - θ_pos))\n",
    "    else:\n",
    "        f = np.mean((i - θ_pos) ** 2 + np.exp(-i)) - 0.25\n",
    "\n",
    "    lossf.append(f)"
   ]
  },
  {
   "cell_type": "code",
   "execution_count": null,
   "id": "9bec79d2-7a0b-427f-87cd-9246c2222d68",
   "metadata": {},
   "outputs": [],
   "source": [
    "# Plot the (silly) assymetric loss function\n",
    "mini = np.argmin(lossf)\n",
    "_, ax = plt.subplots(figsize=(12, 3))\n",
    "ax.plot(grid, lossf)\n",
    "ax.plot(grid[mini], lossf[mini], 'o')\n",
    "ax.annotate('{:.2f}'.format(grid[mini]),\n",
    "(grid[mini] + 0.01, lossf[mini] + 0.1))\n",
    "ax.set_yticks([])\n",
    "ax.set_xlabel(r'$\\hat \\theta$')"
   ]
  },
  {
   "cell_type": "code",
   "execution_count": null,
   "id": "8b64ddef-5c83-4304-9c7f-f260a8910cb8",
   "metadata": {},
   "outputs": [],
   "source": []
  }
 ],
 "metadata": {
  "kernelspec": {
   "display_name": "Python 3 (ipykernel)",
   "language": "python",
   "name": "python3"
  },
  "language_info": {
   "codemirror_mode": {
    "name": "ipython",
    "version": 3
   },
   "file_extension": ".py",
   "mimetype": "text/x-python",
   "name": "python",
   "nbconvert_exporter": "python",
   "pygments_lexer": "ipython3",
   "version": "3.12.7"
  }
 },
 "nbformat": 4,
 "nbformat_minor": 5
}
