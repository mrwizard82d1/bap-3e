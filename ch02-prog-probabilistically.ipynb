{
 "cells": [
  {
   "cell_type": "markdown",
   "id": "73e9157f-ffc9-44f5-b020-7422e86c0dd3",
   "metadata": {},
   "source": [
    "## Ch. 02- Programming Probabilistically"
   ]
  },
  {
   "cell_type": "code",
   "id": "79282b3286f3013b",
   "metadata": {},
   "source": [
    "# Import pymc and related code\n",
    "import arviz as az\n",
    "import pymc as pm\n",
    "import preliz as pz"
   ],
   "outputs": [],
   "execution_count": null
  },
  {
   "cell_type": "code",
   "id": "initial_id",
   "metadata": {},
   "source": [
    "# Import other \"data science libraries\"\n",
    "import pandas as pd\n",
    "import matplotlib.pyplot as plt\n",
    "import numpy as np"
   ],
   "outputs": [],
   "execution_count": null
  },
  {
   "cell_type": "markdown",
   "id": "c5b137c5-a8cc-426e-ac45-22a6225b2c8d",
   "metadata": {},
   "source": [
    "## 2.1 Probabilistic programming"
   ]
  },
  {
   "cell_type": "markdown",
   "id": "60d175cd-8621-4016-9308-1dd24ed40933",
   "metadata": {
    "ExecuteTime": {
     "end_time": "2025-01-14T03:12:01.187867Z",
     "start_time": "2025-01-14T03:12:01.185864Z"
    }
   },
   "source": [
    "#### 2.1.1 Flipping coins the PyMC way2.1.1 Flipping coins the PyMC way"
   ]
  },
  {
   "cell_type": "code",
   "id": "62c6b0dc-3f6b-42e3-ba20-ad6eb1f791aa",
   "metadata": {},
   "source": [
    "# Initialize repeatable random number generator\n",
    "rng = np.random.default_rng(123)"
   ],
   "outputs": [],
   "execution_count": null
  },
  {
   "cell_type": "code",
   "id": "52045298c1db82ce",
   "metadata": {},
   "source": [
    "# Generate \"fake real data\"\n",
    "trials = 4\n",
    "theta_real = 0.35 # unknown in a real experiment\n",
    "data = pz.Binomial(\n",
    "    n=1,\n",
    "    p=theta_real).rvs(trials,\n",
    "                      random_state=rng.integers(np.iinfo(np.int32).max))"
   ],
   "outputs": [],
   "execution_count": null
  },
  {
   "cell_type": "code",
   "id": "b189ba0c0116146d",
   "metadata": {},
   "source": [
    "plt.scatter(range(trials), data)\n",
    "plt.show()"
   ],
   "outputs": [],
   "execution_count": null
  },
  {
   "cell_type": "code",
   "id": "78d7fed8-92b6-4228-aedd-4262441a2e20",
   "metadata": {},
   "source": [
    "with pm.Model() as our_first_model:\n",
    "    θ = pm.Beta('θ', alpha=1., beta=1.)\n",
    "    y = pm.Bernoulli('y', p=θ, observed=data)\n",
    "    idata = pm.sample(1000)"
   ],
   "outputs": [],
   "execution_count": null
  },
  {
   "cell_type": "markdown",
   "id": "0d5c8008-bedd-48c0-ace6-ece7071d373b",
   "metadata": {},
   "source": [
    "### 2.2 Summarizing the posterior"
   ]
  },
  {
   "cell_type": "code",
   "id": "b1aa1f02-dcb4-4067-8312-d4b4e444d133",
   "metadata": {},
   "source": [
    "az.plot_trace(idata)"
   ],
   "outputs": [],
   "execution_count": null
  },
  {
   "cell_type": "code",
   "id": "8e91b3e3-1f33-4b23-95ee-6d46dfe5a358",
   "metadata": {},
   "source": [
    "az.plot_trace(idata, kind='rank_bars', combined=True)"
   ],
   "outputs": [],
   "execution_count": null
  },
  {
   "cell_type": "code",
   "id": "e39e0a99-e9e8-42cc-aef5-ebfe4328766f",
   "metadata": {},
   "source": [
    "az.plot_posterior(idata)"
   ],
   "outputs": [],
   "execution_count": null
  },
  {
   "cell_type": "markdown",
   "id": "8d4ea240-9b82-4f94-97e4-a8e3905012d7",
   "metadata": {},
   "source": [
    "### 2.3 Posterior-based decisions"
   ]
  },
  {
   "cell_type": "markdown",
   "id": "fb44415e-b7b0-4541-8fa4-9d11e9c283d6",
   "metadata": {},
   "source": "#### 2.3.1 Savage-Dickey density ration"
  },
  {
   "cell_type": "code",
   "id": "461dcfc1-acd9-4f9d-925d-92ea4ce8ffff",
   "metadata": {},
   "source": [
    "az.plot_bf(idata, var_name='θ', prior=rng.uniform(0, 1, 10000), ref_val=0.5)"
   ],
   "outputs": [],
   "execution_count": null
  },
  {
   "cell_type": "markdown",
   "id": "daec4ead-0ef8-4736-b35e-7c312985a77e",
   "metadata": {},
   "source": [
    "#### 2.3.2 Region of Practical Equivalence"
   ]
  },
  {
   "cell_type": "code",
   "id": "ad6c9a20-1001-42b8-9e19-466b59e2c7a1",
   "metadata": {},
   "source": [
    "az.plot_posterior(idata, rope=[0.45, 0.55])"
   ],
   "outputs": [],
   "execution_count": null
  },
  {
   "cell_type": "code",
   "id": "93d74b9e-142f-4024-adc0-cdf35539ada7",
   "metadata": {},
   "source": [
    "az.plot_posterior(idata, ref_val=0.5)"
   ],
   "outputs": [],
   "execution_count": null
  },
  {
   "cell_type": "markdown",
   "id": "a687f859-eba3-4f39-8520-15b9dff02a0d",
   "metadata": {},
   "source": [
    "#### 2.3.3 Loss functions"
   ]
  },
  {
   "cell_type": "code",
   "id": "4efc5923-3e96-48cf-89f1-7432f70c3775",
   "metadata": {},
   "source": [
    "# Plot the loss\n",
    "# The plotting part of this code is from \n",
    "# [the chapter 02 code](https://github.com/aloctavodia/BAP3/blob/main/code/Chp_02.ipynb).\n",
    "grid = np.linspace(0, 1, 200)\n",
    "θ_pos = idata.posterior['θ']\n",
    "lossf_a = [np.mean(abs(i - θ_pos)) for i in grid]\n",
    "lossf_b = [np.mean((i - θ_pos) ** 2) for i in grid]\n",
    "\n",
    "_, ax = plt.subplots(figsize=(12, 3))\n",
    "for lossf, c in zip([lossf_a, lossf_b], ['C0', 'C1']):\n",
    "    mini = np.argmin(lossf)\n",
    "    ax.plot(grid, lossf, c)\n",
    "    ax.plot(grid[mini], lossf[mini], 'o', color=c)\n",
    "    ax.annotate('{:.2f}'.format(grid[mini]),\n",
    "                (grid[mini], lossf[mini] + 0.03),\n",
    "                color=c)\n",
    "\n",
    "    ax.set_yticks([])\n",
    "    ax.set_xlabel(r'$\\hat \\theta$')\n",
    "\n",
    "plt.show()"
   ],
   "outputs": [],
   "execution_count": null
  },
  {
   "cell_type": "code",
   "id": "ee5ce6c0-0963-4664-bffb-5c1ac32ebef8",
   "metadata": {},
   "source": [
    "# A (silly) assymetric loss function\n",
    "lossf = []\n",
    "for i in grid:\n",
    "    if i < 0.5:\n",
    "        f = 1 / np.median(θ_pos / np.abs(i**2 - θ_pos))\n",
    "    else:\n",
    "        f = np.mean((i - θ_pos) ** 2 + np.exp(-i)) - 0.25\n",
    "\n",
    "    lossf.append(f)"
   ],
   "outputs": [],
   "execution_count": null
  },
  {
   "cell_type": "code",
   "id": "9bec79d2-7a0b-427f-87cd-9246c2222d68",
   "metadata": {},
   "source": [
    "# Plot the (silly) asymmetric loss function\n",
    "mini = np.argmin(lossf)\n",
    "_, ax = plt.subplots(figsize=(12, 3))\n",
    "ax.plot(grid, lossf)\n",
    "ax.plot(grid[mini], lossf[mini], 'o')\n",
    "ax.annotate('{:.2f}'.format(grid[mini]),\n",
    "(grid[mini] + 0.01, lossf[mini] + 0.1))\n",
    "ax.set_yticks([])\n",
    "ax.set_xlabel(r'$\\hat \\theta$')"
   ],
   "outputs": [],
   "execution_count": null
  },
  {
   "metadata": {},
   "cell_type": "markdown",
   "source": "### 2.4 Gaussians all the way down",
   "id": "116a0ae298773bca"
  },
  {
   "metadata": {},
   "cell_type": "markdown",
   "source": [
    "Gaussians are very appealing. They are easy to work with,\n",
    "many operations applied to Gaussians return another Gaussian.\n",
    "Additionally, many natural phenomena can be approximated using\n",
    "Gaussians. In general, almost every time we measure the average\n",
    "of something, using a **big enough** sample size, the average\n",
    "will be distributed as a Gaussian.\n",
    "\n",
    "Many phenomena are indeed averages. For example, the height\n",
    "of adults. (Actually, this distribution is a **mixture** of\n",
    "**two** Gaussians - one for men and one for women.)\n",
    "\n",
    "Consequently, it is important to learn to build Gaussians,\n",
    "but also to learn how to relax the normality assumptions.\n",
    "(This relaxation is surprisingly easy with tools like PyMC).\n",
    "\n"
   ],
   "id": "a5544a09b7396ae2"
  },
  {
   "metadata": {},
   "cell_type": "markdown",
   "source": "#### 2.4.1 Gaussian inferences",
   "id": "261326b21e360a2f"
  },
  {
   "metadata": {},
   "cell_type": "markdown",
   "source": [
    "**Background**\n",
    "\n",
    "We can use nuclear magnetic Resonance (NMR) to study molecules or\n",
    "living things such as humans, sunflowers, and yeast. NMR allows one\n",
    "to measure different **observable** quantities related to **unobservable**\n",
    "molecular properties. Chemical shift is one of these observable\n",
    "properties that apply to the nuclei of certain types of atoms.\n",
    "This problem is an example similar to:\n",
    "\n",
    "- The height of a group of people\n",
    "- The average time to travel back home\n",
    "- The weights of bags or oranges\n",
    "\n",
    "All these examples have continuous variables and can be thought of as an\n",
    "average plus a dispersion.\n",
    "\n",
    "Additionally, if the number of possible values is large enough, we can\n",
    "approximate it using a Gaussian. For example, the sexual partners of\n",
    "bonobos, a very promiscuous monkey."
   ],
   "id": "633ce18230e3a5b5"
  },
  {
   "metadata": {},
   "cell_type": "markdown",
   "source": [
    "In our example, we have 48 chemical shift value.\n",
    "\n",
    "- The median is around 53\n",
    "- The inter-quartile range is about 52 to 55\n",
    "- Two values \"far away\" from the resto of the data appear to be outliers."
   ],
   "id": "838833d6a6b8a1d5"
  },
  {
   "metadata": {},
   "cell_type": "code",
   "source": [
    "# Load the data\n",
    "data = np.loadtxt('./data/chemical_shifts.csv')"
   ],
   "id": "c98819296c763cac",
   "outputs": [],
   "execution_count": null
  },
  {
   "metadata": {},
   "cell_type": "code",
   "source": [
    "# Plot the data using a boxplot\n",
    "_, ax = plt.subplots(figsize=(12, 3))\n",
    "ax.boxplot(data, vert=False)\n",
    "plt.show()"
   ],
   "id": "e7bd07be5aef1ace",
   "outputs": [],
   "execution_count": null
  },
  {
   "metadata": {},
   "cell_type": "markdown",
   "source": [
    "We'll forget about the two outlying points. We will further assume that\n",
    "a Gaussian is a good description of the data. Since know neither the mean\n",
    "nor the standard deviation, we set priors for both of them. Therefore, a\n",
    "reasonable model is:\n",
    "\n",
    "$$\n",
    "\\begin{gather}\n",
    "\\mu \\sim \\mathcal{U(l, h)} \\\\\n",
    "\\sigma \\sim \\mathcal{HN(\\sigma_{\\sigma})} \\\\\n",
    "Y \\sim \\mathcal{N(\\mu, \\sigma)}\n",
    "\\end{gather}\n",
    "$$\n",
    "\n",
    "where\n",
    "\n",
    "- $\\mathcal{U(l, h)}$ is the Uniform distribution between\n",
    "  $\\mathcal{l}$ and $\\mathcal{h}$\n",
    "- $\\mathcal{HN(\\sigma_{\\sigma})}$ is the Half-Normal distribution\n",
    "  with scale $\\mathcal{\\sigma_{\\sigma}}$\n",
    "- $\\mathcal{N(\\mu, \\sigma)}$ is the Gaussian distribution with mean,\n",
    "  $\\mathcal{\\mu}$, and standard deviation, $\\mathcal{\\sigma}$."
   ],
   "id": "7d1f7af0c85e448f"
  },
  {
   "metadata": {},
   "cell_type": "markdown",
   "source": [
    "Since we do not know the possible values of $\\mu$ and $\\sigma$ - a typical\n",
    "situation - we can set priors reflecting our ignorance. For example, we\n",
    "can set the boundaries of our uniform distribution to be\n",
    "$\\mathcal{l} = 40$ and $\\mathcal{h} = 75$: a range **larger** than the\n",
    "range of the data.\n",
    "\n",
    "For the Half-Normal, in the absence of more information, we can choose a\n",
    "large value compared to the **scale** of the data. The following PyMC\n",
    "code puts details to our model."
   ],
   "id": "a653d5744030c3ba"
  },
  {
   "metadata": {},
   "cell_type": "code",
   "source": [
    "with pm.Model() as model_g:\n",
    "    mu = pm.Uniform('\\u03bc', lower=40, upper=70)\n",
    "    sigma = pm.HalfNormal('\\u03c3', sigma=5)\n",
    "    Y = pm.Normal('Y', mu=mu, sigma=sigma, observed=data)\n",
    "    idata_g = pm.sample()"
   ],
   "id": "d943d0cc3b25231c",
   "outputs": [],
   "execution_count": null
  },
  {
   "metadata": {},
   "cell_type": "code",
   "source": [
    "az.plot_trace(idata_g)\n",
    "plt.show()"
   ],
   "id": "6cdc32828cc9e007",
   "outputs": [],
   "execution_count": null
  },
  {
   "metadata": {},
   "cell_type": "code",
   "source": [
    "az.plot_pair(idata_g, kind='kde', marginals=True)\n",
    "plt.show()"
   ],
   "id": "652e94c5b0935d92",
   "outputs": [],
   "execution_count": null
  },
  {
   "metadata": {},
   "cell_type": "code",
   "source": "az.summary(idata_g, kind='stats').round(2)",
   "id": "a1d66b590651b748",
   "outputs": [],
   "execution_count": null
  },
  {
   "metadata": {},
   "cell_type": "code",
   "source": "",
   "id": "2da99a9fd1914654",
   "outputs": [],
   "execution_count": null
  }
 ],
 "metadata": {
  "kernelspec": {
   "display_name": "Python 3 (ipykernel)",
   "language": "python",
   "name": "python3"
  },
  "language_info": {
   "codemirror_mode": {
    "name": "ipython",
    "version": 3
   },
   "file_extension": ".py",
   "mimetype": "text/x-python",
   "name": "python",
   "nbconvert_exporter": "python",
   "pygments_lexer": "ipython3",
   "version": "3.12.8"
  }
 },
 "nbformat": 4,
 "nbformat_minor": 5
}
