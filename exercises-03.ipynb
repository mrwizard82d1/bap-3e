{
 "cells": [
  {
   "metadata": {},
   "cell_type": "markdown",
   "source": "# Chapter 03 exercises",
   "id": "30be358744a63042"
  },
  {
   "metadata": {},
   "cell_type": "markdown",
   "source": [
    "## Exercise 01\n",
    "\n",
    "Using your own words explain the following concepts in two or three sentences\n",
    "\n",
    "- Complete pooling - Pool all data together\n",
    "- No pooling - Only determine answers for each group\n",
    "- Partial pooling - Use all data to improve group data answers"
   ],
   "id": "278c100b1911994"
  },
  {
   "metadata": {},
   "cell_type": "markdown",
   "source": [
    "## Exercise 02\n",
    "\n",
    "Repeat the exercise we did with `model_h` **without** a hierarchical\n",
    "structure using a flat prior like $Beta(\\alpha=1, \\beta=1)$. Compare\n",
    "the results of both models."
   ],
   "id": "4ab7b4f71e0b6015"
  },
  {
   "cell_type": "code",
   "id": "1a861e429feb46e",
   "metadata": {},
   "source": [
    "# Perform our typical data science and PyMC imports\n",
    "\n",
    "# Import cytoolz for data manipulation\n",
    "import cytoolz.curried as ctc\n",
    "\n",
    "# Import PyMC and supporting packages\n",
    "import arviz as az\n",
    "import pymc as pm\n",
    "import preliz as pz\n",
    "\n",
    "# Import other \"data science\" packages\n",
    "import numpy as np\n",
    "import matplotlib.pyplot as plt\n",
    "import pandas as pd"
   ],
   "outputs": [],
   "execution_count": null
  },
  {
   "cell_type": "code",
   "id": "6ca7d566-ce5e-47d3-8525-f2c3d0503145",
   "metadata": {},
   "source": [
    "# Generate synthetic data\n",
    "N_samples = [30, 30, 30] # number of samples\n",
    "G_samples = [18, 3, 3] # number of good samples\n",
    "group_idx = np.repeat(np.arange(len(N_samples)), N_samples)\n",
    "\n",
    "# Perhaps `cytoolz` might simplify this code\n",
    "data = []\n",
    "for i in range(0, len(N_samples)):\n",
    "    data.extend(np.repeat([1, 0],\n",
    "                          [G_samples[i], N_samples[i] - G_samples[i]]))"
   ],
   "outputs": [],
   "execution_count": null
  },
  {
   "cell_type": "code",
   "id": "de09d5a1-516c-482e-8544-3f80127c017c",
   "metadata": {},
   "source": [
    "# Let's write the model in PyMC.\n",
    "with pm.Model() as model_h:\n",
    "    # hyperpriors\n",
    "    mu = pm.Beta('mu', 1, 1)\n",
    "    nu = pm.HalfNormal('nu', 10)\n",
    "\n",
    "    # prior\n",
    "    theta = pm.Beta('theta', mu=mu, nu=nu, shape=len(N_samples))\n",
    "\n",
    "    # likelihood\n",
    "    y = pm.Bernoulli('y', p = theta[group_idx], observed=data)\n",
    "\n",
    "    idata_h = pm.sample(random_seed=4591)"
   ],
   "outputs": [],
   "execution_count": null
  },
  {
   "cell_type": "code",
   "id": "30c6739f-39b8-4de6-8ca5-bb74f4a070d2",
   "metadata": {},
   "source": [
    "# Let's write the same model **without** using a hierarchical model\n",
    "with pm.Model() as model_nh:\n",
    "    # Prior\n",
    "    theta = pm.Beta('theta', alpha=1, beta=1, shape=len(N_samples))\n",
    "\n",
    "    # Likelihood\n",
    "    y = pm.Bernoulli('y', p=theta[group_idx], observed=data)\n",
    "\n",
    "    idata_nh = pm.sample(random_seed=4591)"
   ],
   "outputs": [],
   "execution_count": null
  },
  {
   "metadata": {},
   "cell_type": "code",
   "source": [
    "az.plot_trace(idata_h)\n",
    "az.plot_trace(idata_nh)\n",
    "plt.show()"
   ],
   "id": "fa6ccc4bc11e7e61",
   "outputs": [],
   "execution_count": null
  },
  {
   "metadata": {},
   "cell_type": "code",
   "source": "az.summary(idata_h)",
   "id": "234da91048ee7a50",
   "outputs": [],
   "execution_count": null
  },
  {
   "metadata": {},
   "cell_type": "code",
   "source": "az.summary(idata_nh)",
   "id": "14082399b59423f3",
   "outputs": [],
   "execution_count": null
  },
  {
   "metadata": {},
   "cell_type": "code",
   "source": [
    "az.plot_posterior(idata_h)\n",
    "az.plot_posterior(idata_nh)\n",
    "plt.show()"
   ],
   "id": "ae8cc17c884c02f7",
   "outputs": [],
   "execution_count": null
  },
  {
   "metadata": {},
   "cell_type": "code",
   "source": [
    "axes = az.plot_forest(\n",
    "    [idata_h, idata_nh],\n",
    "    model_names=['hierarchical', 'non-hierarchical'],\n",
    "    var_names='theta',\n",
    "    combined=True,\n",
    "    r_hat=False,\n",
    "    ess=False,\n",
    "    figsize=(12, 3),\n",
    "    colors='cycle',\n",
    ")\n",
    "y_lims = axes[0].get_ylim()\n",
    "plt.show()"
   ],
   "id": "62be2c194a861b19",
   "outputs": [],
   "execution_count": null
  },
  {
   "metadata": {},
   "cell_type": "markdown",
   "source": [
    "I do not notice any significant difference between the two models.\n",
    "Both models capture the difference between first group and the\n",
    "last two groups. Additionally, both models capture the similarity\n",
    "between the last two groups.\n",
    "\n",
    "However, as the author points out, in the first group, the means\n",
    "of the two groups are \"pulled apart\"; that is, using the\n",
    "hierarchical model, the mean of the first group is \"pulled toward\"\n",
    "the mean of the other two groups. Without a hierarchical model, the\n",
    "mean is unaffected by the other two groups."
   ],
   "id": "c2a8caa5f94e9f70"
  },
  {
   "metadata": {},
   "cell_type": "markdown",
   "source": [
    "## Exercise 03\n",
    "\n",
    "Create a hierarchical version of the tips example from chapter 2 by\n",
    "partially pooling across the days of the week. Compare the results\n",
    "to the results obtained without the hierarchical structure."
   ],
   "id": "8e0d9a6721ae1802"
  },
  {
   "metadata": {},
   "cell_type": "code",
   "source": [
    "# Load the tips data set\n",
    "tips = pd.read_csv('../data/tips.csv')"
   ],
   "id": "79c2ec5bcdb6513b",
   "outputs": [],
   "execution_count": null
  },
  {
   "metadata": {},
   "cell_type": "code",
   "source": [
    "# We'll preprocess the tips data set\n",
    "categories = np.array(['Thur', 'Fri', 'Sat', 'Sun'])\n",
    "tip = tips['tip'].values\n",
    "idx = pd.Categorical(tips['day'], categories=categories).codes\n",
    "coords = {'days': categories, 'days_flat': categories[idx]}"
   ],
   "id": "9d839d84904b3218",
   "outputs": [],
   "execution_count": null
  },
  {
   "metadata": {},
   "cell_type": "code",
   "source": [
    "# We now perform the same modeling we did in chapter 2\n",
    "with pm.Model(coords=coords) as comparing_groups_nh:\n",
    "    mu = pm.HalfNormal('mu', sigma=5, dims='days')\n",
    "    sigma = pm.HalfNormal('sigma', sigma=1, dims='days')\n",
    "    y = pm.Gamma('y', mu=mu[idx], sigma=sigma[idx],\n",
    "                 observed=tip, dims='days_flat')\n",
    "\n",
    "    idata_cg_nh = pm.sample(random_seed=4591)"
   ],
   "id": "78b5f417c9c9ad91",
   "outputs": [],
   "execution_count": null
  },
  {
   "metadata": {},
   "cell_type": "code",
   "source": [
    "# Let's now create a similar model with partial pooling across the\n",
    "# days of the week.\n",
    "with pm.Model(coords=coords) as comparing_groups_h:\n",
    "    # Hyper-prior\n",
    "    hp_mu = pm.HalfNormal('hp_mu', sigma=5, dims='days')\n",
    "\n",
    "    # Prior\n",
    "    mu = pm.Normal('mu', mu=hp_mu, sigma=5, dims='days')\n",
    "    sigma = pm.HalfNormal('sigma', sigma=1, dims='days')\n",
    "\n",
    "    # Likelihood\n",
    "    y = pm.Gamma('y', mu=mu[idx], sigma=sigma[idx],\n",
    "                 observed=tip, dims='days_flat')\n",
    "\n",
    "    idata_cg_h = pm.sample(random_seed=4591)"
   ],
   "id": "5e44029bdeb85593",
   "outputs": [],
   "execution_count": null
  },
  {
   "metadata": {},
   "cell_type": "code",
   "source": [
    "az.plot_trace(idata_cg_nh)\n",
    "az.plot_trace(idata_cg_h)\n",
    "plt.show()"
   ],
   "id": "87c97ec554bfbb7c",
   "outputs": [],
   "execution_count": null
  },
  {
   "metadata": {},
   "cell_type": "code",
   "source": "az.summary(idata_cg_nh)",
   "id": "e26a650fd7d6bbda",
   "outputs": [],
   "execution_count": null
  },
  {
   "metadata": {},
   "cell_type": "code",
   "source": "az.summary(idata_cg_h)",
   "id": "8e95ada105ac7658",
   "outputs": [],
   "execution_count": null
  },
  {
   "metadata": {},
   "cell_type": "code",
   "source": [
    "az.plot_posterior(idata_cg_nh)\n",
    "az.plot_posterior(idata_cg_h)\n",
    "plt.show()"
   ],
   "id": "8947992ddbd85686",
   "outputs": [],
   "execution_count": null
  },
  {
   "metadata": {},
   "cell_type": "code",
   "source": [
    "axes = az.plot_forest(\n",
    "    [idata_cg_nh, idata_cg_h],\n",
    "    model_names=['non-hierarchical', 'hierarchical'],\n",
    "    var_names='mu',\n",
    "    combined=True,\n",
    "    r_hat=False,\n",
    "    ess=False,\n",
    "    figsize=(12, 3),\n",
    "    colors='cycle',\n",
    ")\n",
    "y_lims = axes[0].get_ylim()"
   ],
   "id": "e7af51f60df8c568",
   "outputs": [],
   "execution_count": null
  },
  {
   "metadata": {},
   "cell_type": "markdown",
   "source": [
    "The author chose a different set of models. I think I understand\n",
    "the reason (but I'm not fully certain)."
   ],
   "id": "73365d2648b5accb"
  },
  {
   "metadata": {},
   "cell_type": "code",
   "source": [
    "# The first model just sets a hyper-prior over `mu`\n",
    "with pm.Model(coords=coords) as comparing_groups_h_00:\n",
    "    # Hyper-prior\n",
    "    # I'm uncertain about the reason the author chose a Gamma distribution.\n",
    "    # From the AI Overview generated by Google, these reasons seem\n",
    "    # to be pertinent.\n",
    "    # Positive support: The Gamma distribution only generates\n",
    "    # **positive** values which seems suitable for tips.\n",
    "    # I'm uncertain about the other reasons supplied.\n",
    "    mu_g = pm.Gamma('mu_g', mu=5, sigma=2)\n",
    "\n",
    "    # Prior\n",
    "    mu = pm.HalfNormal('mu', sigma=mu_g, dims='days')\n",
    "    sigma = pm.HalfNormal('sigma', sigma=1, dims='days')\n",
    "\n",
    "    # Likelihood\n",
    "    y = pm.Gamma('y', mu=mu[idx], sigma=sigma[idx],\n",
    "                 observed=tip, dims='days_flat')\n",
    "\n",
    "    # Magic inference button\n",
    "    idata_cg_h_00 = pm.sample(random_seed=4591)"
   ],
   "id": "9f2f49352f94f648",
   "outputs": [],
   "execution_count": null
  },
  {
   "metadata": {},
   "cell_type": "code",
   "source": [
    "# Here's the second (alternative) model\n",
    "with pm.Model(coords=coords) as comparing_groups_h_01:\n",
    "    # Hyper-priors\n",
    "    mu_g = pm.Gamma('mu_g', mu=5, sigma=2)\n",
    "    sigma_g = pm.Gamma('sigma_g', mu=2, sigma=1.5)\n",
    "\n",
    "    # Priors\n",
    "    mu = pm.Gamma('mu', mu=mu_g, sigma=sigma_g, dims='days')\n",
    "    sigma = pm.HalfNormal('sigma', sigma=1, dims='days')\n",
    "\n",
    "    # Likelihood\n",
    "    y = pm.Gamma('y', mu=mu[idx], sigma=sigma[idx],\n",
    "                 observed=tip, dims='days_flat')\n",
    "\n",
    "    # The magic inference button\n",
    "    idata_cg_h_01 = pm.sample(random_seed=4591)"
   ],
   "id": "936aa00f026e7f78",
   "outputs": [],
   "execution_count": null
  },
  {
   "metadata": {},
   "cell_type": "code",
   "source": [
    "# The author also suggests coding up a non-centered version. These\n",
    "# kinds of models are discussed in chapter 4.\n",
    "with pm.Model(coords=coords) as comparing_groups_h_02:\n",
    "    # Hyper-priors\n",
    "    mu_g = pm.Gamma('mu_g', mu=5, sigma=2)\n",
    "    sigma_g = pm.HalfNormal('sigma_g', sigma=2)\n",
    "\n",
    "    # Priors\n",
    "    mu_g_offset = pm.Normal('mu_g_offset', sigma=2, dims='days')\n",
    "    mu = pm.Deterministic('mu', mu_g + mu_g_offset, dims='days')\n",
    "    sigma = pm.HalfNormal('sigma', sigma=1, dims='days')\n",
    "\n",
    "    # Likelihood\n",
    "    y = pm.Gamma('y', mu=mu[idx], sigma=sigma[idx],\n",
    "                 observed=tip, dims='days_flat')\n",
    "\n",
    "    # Again, the magical inference button\n",
    "    idata_cg_h_02 = pm.sample(random_seed=4591, target_accepted=0.99)"
   ],
   "id": "3bd07c67ef5eab6e",
   "outputs": [],
   "execution_count": null
  },
  {
   "metadata": {},
   "cell_type": "code",
   "source": [
    "axes = az.plot_forest(\n",
    "    [idata_cg_nh, idata_cg_h_00, idata_cg_h_01, idata_cg_h_02],\n",
    "    model_names=['non-hierarchical', 'hierarchical_00',\n",
    "                 'hierarchical_01', 'hierarchical_02'],\n",
    "    var_names='mu',\n",
    "    combined=True,\n",
    "    r_hat=False,\n",
    "    figsize=(12, 3),\n",
    "    colors='cycle',\n",
    ")\n",
    "y_lims = axes[0].get_ylim()\n",
    "axes[0].vlines(idata_cg_h_00.posterior['mu_g'].mean(),\n",
    "               *y_lims,\n",
    "               colors='k',\n",
    "               ls=\":\")\n",
    "plt.show()"
   ],
   "id": "f7a872576d76d119",
   "outputs": [],
   "execution_count": null
  },
  {
   "metadata": {},
   "cell_type": "markdown",
   "source": [
    "As the author points out, \"We can see little difference between\n",
    "the hierarchical and non-hierarchical models when we use a\n",
    "HalfNormal distribution for the mean, `mu`, (`hierarchical_00`\n",
    "and `non-hierarchical`, respectively). The difference is\n",
    "larger when we use a Gamma distribution (`hierarchical_01`).\n",
    "\n",
    "Interestingly, using the non-centered version (`hierarchical_02`)\n",
    "again seems to reduce the difference."
   ],
   "id": "f8ab0bd795377803"
  },
  {
   "metadata": {},
   "cell_type": "markdown",
   "source": [
    "## Exercise 04\n",
    "\n",
    "For each sub-panel in figure 3.7, add a reference line representing\n",
    "the empirical mean value at each level; that is, the global mean,\n",
    "the forward mean, and Messi's mean. Compare the empirical values\n",
    "to the posterior mean values. What do you observe?"
   ],
   "id": "b7783fbc72bcbd6c"
  },
  {
   "metadata": {},
   "cell_type": "code",
   "source": [
    "football = pd.read_csv('./data/football_players.csv', dtype={'position': 'category'})\n",
    "football['gps'] = football['goals'] / football['shots']\n",
    "football"
   ],
   "id": "8797887b2c72b305",
   "outputs": [],
   "execution_count": null
  },
  {
   "metadata": {},
   "cell_type": "code",
   "source": [
    "pos_idx = football['position'].cat.codes.values\n",
    "\n",
    "pos_codes = football.position.cat.categories\n",
    "\n",
    "n_pos = pos_codes.size\n",
    "\n",
    "n_players = football.index.size"
   ],
   "id": "83a4fc87132f7489",
   "outputs": [],
   "execution_count": null
  },
  {
   "metadata": {},
   "cell_type": "code",
   "source": [
    "coords = {'pos': pos_codes}\n",
    "with pm.Model(coords=coords) as model_football:\n",
    "    # Hyperparameters\n",
    "    mu = pm.Beta('mu', 1.7, 5.8) # values determined empirically\n",
    "    nu = pm.Gamma('nu', mu=125, sigma=50)\n",
    "\n",
    "    # Parameters for (four) positions\n",
    "    mu_p = pm.Beta('mu_p', mu=mu, nu=nu, dims='pos')\n",
    "    nu_p = pm.Gamma('nu_p', mu=125, sigma=50, dims='pos')\n",
    "\n",
    "    # Parameter for players (goal scoring rate)\n",
    "    # Remember that `theta` represents the **success rate**\n",
    "    theta = pm.Beta('theta', mu=mu_p[pos_idx], nu=nu_p[pos_idx])\n",
    "\n",
    "    gs = pm.Binomial('gs',\n",
    "                     n=football.shots.values,\n",
    "                     p=theta,\n",
    "                     observed=football.goals.values)\n",
    "    idata_football = pm.sample(draws=3000, target_accepted=0.95, random_seed=4591)"
   ],
   "id": "cff367fdf9e3b487",
   "outputs": [],
   "execution_count": null
  },
  {
   "metadata": {},
   "cell_type": "code",
   "source": [
    "az.plot_trace(idata_football, var_names=['mu', 'nu', 'mu_p', 'nu_p'])\n",
    "plt.show()"
   ],
   "id": "e545a23db678fa5d",
   "outputs": [],
   "execution_count": null
  },
  {
   "metadata": {},
   "cell_type": "code",
   "source": [
    "_, ax = plt.subplots(3, 1, figsize=(12, 6), sharex=True)\n",
    "\n",
    "az.plot_posterior(idata_football,\n",
    "                  var_names='mu',\n",
    "                  ax=ax[0])\n",
    "ax[0].axvline(football['gps'].mean(), color='0.25', ls='--')\n",
    "ax[0].set_title(r'Global mean)')\n",
    "\n",
    "az.plot_posterior(\n",
    "    idata_football.posterior.sel(pos='FW'),\n",
    "    var_names='mu_p',\n",
    "    ax=ax[1])\n",
    "ax[1].axvline(\n",
    "    football['gps'][football['position'] == 'FW'].mean(),\n",
    "    color='0.25',\n",
    "    ls='--'\n",
    ")\n",
    "ax[1].set_title(r'Forward position mean')\n",
    "\n",
    "az.plot_posterior(\n",
    "    idata_football.posterior.sel(theta_dim_0=1457),\n",
    "    var_names='theta',\n",
    "    ax=ax[2]\n",
    ")\n",
    "ax[2].axvline(\n",
    "    football['gps'][football['name'] == 'Lionel Messi'].item(),\n",
    "    color='0.25',\n",
    "    ls='--'\n",
    ")\n",
    "ax[2].set_title(r'Messi mean')\n",
    "\n",
    "plt.show()"
   ],
   "id": "a923eaad4a8f9dc5",
   "outputs": [],
   "execution_count": null
  },
  {
   "metadata": {},
   "cell_type": "code",
   "source": "",
   "id": "996d4deb1170ecc0",
   "outputs": [],
   "execution_count": null
  },
  {
   "metadata": {},
   "cell_type": "code",
   "source": "",
   "id": "6459c8a608a888d6",
   "outputs": [],
   "execution_count": null
  },
  {
   "metadata": {},
   "cell_type": "code",
   "source": "",
   "id": "f9fafc31fdd83ac7",
   "outputs": [],
   "execution_count": null
  }
 ],
 "metadata": {
  "kernelspec": {
   "display_name": "Python 3 (ipykernel)",
   "language": "python",
   "name": "python3"
  },
  "language_info": {
   "codemirror_mode": {
    "name": "ipython",
    "version": 3
   },
   "file_extension": ".py",
   "mimetype": "text/x-python",
   "name": "python",
   "nbconvert_exporter": "python",
   "pygments_lexer": "ipython3",
   "version": "3.12.8"
  }
 },
 "nbformat": 4,
 "nbformat_minor": 5
}
