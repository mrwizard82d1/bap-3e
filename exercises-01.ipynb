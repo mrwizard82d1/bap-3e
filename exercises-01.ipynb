{
 "cells": [
  {
   "cell_type": "markdown",
   "id": "b3344939-34ff-4f8f-ac52-2cdf892d8728",
   "metadata": {},
   "source": [
    "# Exercises Chapter 01"
   ]
  },
  {
   "cell_type": "markdown",
   "id": "4e16ccda-c404-4409-a980-e5f794e88162",
   "metadata": {},
   "source": [
    "1. Jar with 4 jelly beans: 2 strawberry, 1 blueberry, 1 cinammon. Draw one at random."
   ]
  },
  {
   "cell_type": "markdown",
   "id": "5ad480ca-bb4f-40a9-b9f4-13411140f0e7",
   "metadata": {},
   "source": [
    "a. What is the sample space for this experiment?\n",
    "\n",
    "{ Strawberry, Strawberry, Blueberry, Cinammon }"
   ]
  },
  {
   "cell_type": "markdown",
   "id": "ae0afbb2-19b0-4fa1-b724-d69ad2a9a55f",
   "metadata": {},
   "source": [
    "b. Event A { Draw strawberry }; Event B { Draw not cinammon }.\n",
    "\n",
    "P(A) = 1 / 2\n",
    "P(B) = 3 / 4"
   ]
  },
  {
   "cell_type": "markdown",
   "id": "bf4e451c-4a5c-41b0-82ea-dd53781fc548",
   "metadata": {},
   "source": [
    "c. Are events A and B mutually exclusive?\n",
    "\n",
    "No. The event \"Drawing a strawberry\" is also in the event \"Not drawing cinammon\"."
   ]
  },
  {
   "cell_type": "markdown",
   "id": "964d3948-9cb5-4b04-a950-abfd1448a06c",
   "metadata": {},
   "source": [
    "2. Python functions for naive probability and for weighted probability"
   ]
  },
  {
   "cell_type": "code",
   "execution_count": null,
   "id": "dad64b4d-a559-4969-a006-e3ccd61bf817",
   "metadata": {},
   "outputs": [],
   "source": [
    "def naive_P(S, A):\n",
    "    if set(A).issubset(set(S)):\n",
    "        return len(A) / len(S)\n",
    "    else:\n",
    "        return 0\n",
    "\n",
    "naive_universe = ['S', 'S', 'B', 'C']\n",
    "naive_P(naive_universe, ['S'])"
   ]
  },
  {
   "cell_type": "code",
   "execution_count": null,
   "id": "0cb328e2-b45f-46d6-923b-59b83eb13b5a",
   "metadata": {},
   "outputs": [],
   "source": [
    "def P(S, A):\n",
    "    if set(A).issubset(set(S.keys())):\n",
    "        return sum([S[a] for a in A]) / sum(S.values())\n",
    "    else:\n",
    "        return 0\n",
    "\n",
    "universe = {'S': 2, 'B': 1, 'C': 1}\n",
    "P(universe, ['S'])"
   ]
  },
  {
   "cell_type": "code",
   "execution_count": null,
   "id": "057902f7-4e0a-4180-bb75-e785a37e7988",
   "metadata": {},
   "outputs": [],
   "source": [
    "P(universe, ['B'])"
   ]
  },
  {
   "cell_type": "code",
   "execution_count": null,
   "id": "8dde76bd-6d42-47d9-98de-9aa337a9480c",
   "metadata": {},
   "outputs": [],
   "source": [
    "P(universe, ['C'])"
   ]
  },
  {
   "cell_type": "markdown",
   "id": "93687645-e45d-4a29-b1fe-e371bc7325b3",
   "metadata": {},
   "source": [
    "3. Use PreliZ to explore different parameters for the BetaBinomial and Gaussian distributions."
   ]
  },
  {
   "cell_type": "code",
   "execution_count": null,
   "id": "6382c9bf-9adc-4041-be32-943279a132fe",
   "metadata": {},
   "outputs": [],
   "source": [
    "import preliz as pz"
   ]
  },
  {
   "cell_type": "code",
   "execution_count": null,
   "id": "1753000c-ac8d-44da-8f73-e8315c2014ca",
   "metadata": {},
   "outputs": [],
   "source": [
    "pz.Normal(0, 1).plot_pdf()"
   ]
  },
  {
   "cell_type": "code",
   "execution_count": null,
   "id": "91b60341-103c-4999-b638-f299e8d7f240",
   "metadata": {},
   "outputs": [],
   "source": [
    "pz.Normal(0, 1).plot_cdf()"
   ]
  },
  {
   "cell_type": "code",
   "execution_count": null,
   "id": "63c6c424-0404-4f6a-846b-7d211c6e67f4",
   "metadata": {},
   "outputs": [],
   "source": [
    "pz.Normal(0, 1).plot_interactive()"
   ]
  },
  {
   "cell_type": "code",
   "execution_count": null,
   "id": "9ea8ae8c-fead-405b-a245-290dad80f395",
   "metadata": {},
   "outputs": [],
   "source": [
    "pz.BetaBinomial(1, 1, 10).plot_pdf()"
   ]
  },
  {
   "cell_type": "code",
   "execution_count": null,
   "id": "63ae25bf-e10c-4781-9231-a4f0e7df7fe6",
   "metadata": {},
   "outputs": [],
   "source": [
    "pz.BetaBinomial(1, 2, 10).plot_cdf()"
   ]
  },
  {
   "cell_type": "code",
   "execution_count": null,
   "id": "3a07c789-1d70-4cf2-916b-9769e19a7f61",
   "metadata": {},
   "outputs": [],
   "source": [
    "pz.BetaBinomial(1, 2, 10).plot_interactive()"
   ]
  },
  {
   "cell_type": "markdown",
   "id": "2c4c5969-5ce0-4bd9-b9ea-5c9854f4657a",
   "metadata": {},
   "source": [
    "4. Use the PreliZ `plot_ppf` method to plot the percentile point function for the Gaussian and BetaBinomial distributions."
   ]
  },
  {
   "cell_type": "code",
   "execution_count": null,
   "id": "b05acabb-3d39-4596-80f4-e6c3f18d3912",
   "metadata": {},
   "outputs": [],
   "source": [
    "pz.Normal(0, 1).plot_ppf()"
   ]
  },
  {
   "cell_type": "code",
   "execution_count": null,
   "id": "6604b118-5ef3-45c2-bafe-02fe24d4872b",
   "metadata": {},
   "outputs": [],
   "source": [
    "pz.BetaBinomial(3.10, 7.60, 10).plot_ppf()"
   ]
  },
  {
   "cell_type": "markdown",
   "id": "900357cb-a7c4-4640-8ed1-f46648d5e94d",
   "metadata": {},
   "source": [
    "It seems like the \"ppf\" (percentile point function) is somehow \n",
    "the \"transpose\" of the CDF. In other words, it answers the \n",
    "question: \"For a given probability, what is the value that \n",
    "corresponds to that probability."
   ]
  },
  {
   "cell_type": "markdown",
   "id": "3fc94f5a-388b-4245-a8de-550b7dc11f4d",
   "metadata": {},
   "source": [
    "5. From the following expressions, which one corresponds to: the probability of being sunny given it is 09-Jul-1816.\n",
    "\n",
    "The correct answer is c: `p(sunny | 9 of July 1816)`. I believe that (e) is also correct because this expression equals the previous expression."
   ]
  },
  {
   "cell_type": "markdown",
   "id": "87308f43-71b6-4266-a5aa-67d5f4bee5b5",
   "metadata": {},
   "source": [
    "6. If the pope is a reptile (see \"Futurama\"), then both expressions have a probability of zero (0)."
   ]
  },
  {
   "cell_type": "code",
   "execution_count": null,
   "id": "7831b362-b6b5-4e14-a2bf-68c3d2d5122c",
   "metadata": {},
   "outputs": [],
   "source": []
  }
 ],
 "metadata": {
  "kernelspec": {
   "display_name": "Python 3 (ipykernel)",
   "language": "python",
   "name": "python3"
  },
  "language_info": {
   "codemirror_mode": {
    "name": "ipython",
    "version": 3
   },
   "file_extension": ".py",
   "mimetype": "text/x-python",
   "name": "python",
   "nbconvert_exporter": "python",
   "pygments_lexer": "ipython3",
   "version": "3.12.7"
  }
 },
 "nbformat": 4,
 "nbformat_minor": 5
}
