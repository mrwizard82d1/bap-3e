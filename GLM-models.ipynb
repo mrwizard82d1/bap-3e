{
 "cells": [
  {
   "metadata": {},
   "cell_type": "markdown",
   "source": "# GLM Parameters",
   "id": "e444cbcdf2ecf6d3"
  },
  {
   "metadata": {},
   "cell_type": "markdown",
   "source": [
    "Here is a table describing parameters of Generalized Linear Models:\n",
    "\n",
    "| Name  | $phi$               | $theta$ | $f$                   | Notes |\n",
    "| ----- | ------------------- | ------- | --------------------- | ----- |\n",
    "|       | Normal              | $sigma$ | The identity function | |\n",
    "|       | Gamma               | | $e^{x}$               | |\n",
    "|       | Negative Binomial   | | $e^{x}$               | |\n"
   ],
   "id": "9983ae2ade23f1b2"
  },
  {
   "metadata": {
    "ExecuteTime": {
     "end_time": "2025-02-17T23:57:33.016855Z",
     "start_time": "2025-02-17T23:57:33.015140Z"
    }
   },
   "cell_type": "code",
   "source": "",
   "id": "4557837f97b7d187",
   "outputs": [],
   "execution_count": null
  }
 ],
 "metadata": {
  "kernelspec": {
   "display_name": "Python 3",
   "language": "python",
   "name": "python3"
  },
  "language_info": {
   "codemirror_mode": {
    "name": "ipython",
    "version": 2
   },
   "file_extension": ".py",
   "mimetype": "text/x-python",
   "name": "python",
   "nbconvert_exporter": "python",
   "pygments_lexer": "ipython2",
   "version": "2.7.6"
  }
 },
 "nbformat": 4,
 "nbformat_minor": 5
}
